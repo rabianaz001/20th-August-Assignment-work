{
 "cells": [
  {
   "cell_type": "markdown",
   "metadata": {},
   "source": [
    "# TOPIC: String Based Assignment Problem"
   ]
  },
  {
   "cell_type": "markdown",
   "metadata": {},
   "source": [
    "Q1. Write a program to reverse a string."
   ]
  },
  {
   "cell_type": "code",
   "execution_count": 67,
   "metadata": {},
   "outputs": [
    {
     "name": "stdout",
     "output_type": "stream",
     "text": [
      "sllikswp\n"
     ]
    }
   ],
   "source": [
    "string =\"pwskills\"\n",
    "y = (string [::-1])\n",
    "print(y)"
   ]
  },
  {
   "cell_type": "markdown",
   "metadata": {},
   "source": [
    "Q2. 2. Check if a string is a palindrome."
   ]
  },
  {
   "cell_type": "code",
   "execution_count": 40,
   "metadata": {},
   "outputs": [
    {
     "name": "stdout",
     "output_type": "stream",
     "text": [
      "Enter the string :malayalam\n",
      "string is palindrome\n"
     ]
    }
   ],
   "source": [
    "palindrome = str(input(\"Enter the string :\"))\n",
    "num = (palindrome[::-1])\n",
    "if num == palindrome:\n",
    "    print(\"string is palindrome\")\n",
    "    \n",
    "else:\n",
    "    print(\"string is not a palindrome\")"
   ]
  },
  {
   "cell_type": "markdown",
   "metadata": {},
   "source": [
    "Q3. Convert a string to uppercase."
   ]
  },
  {
   "cell_type": "code",
   "execution_count": 46,
   "metadata": {},
   "outputs": [
    {
     "name": "stdout",
     "output_type": "stream",
     "text": [
      "I AM RABIA NAZ\n"
     ]
    }
   ],
   "source": [
    "a = \"i am rabia naz\"\n",
    "print(a.upper())"
   ]
  },
  {
   "cell_type": "markdown",
   "metadata": {},
   "source": [
    "Q4. Convert a string to lowercase."
   ]
  },
  {
   "cell_type": "code",
   "execution_count": 47,
   "metadata": {},
   "outputs": [
    {
     "name": "stdout",
     "output_type": "stream",
     "text": [
      "i like pw skills\n"
     ]
    }
   ],
   "source": [
    "a = \"I LIKE PW SKILLS\"\n",
    "print(a.lower())"
   ]
  },
  {
   "cell_type": "markdown",
   "metadata": {},
   "source": [
    "Q5. Count the number of vowels in a string."
   ]
  },
  {
   "cell_type": "code",
   "execution_count": 100,
   "metadata": {},
   "outputs": [
    {
     "name": "stdout",
     "output_type": "stream",
     "text": [
      "Number of vowel : 7\n"
     ]
    }
   ],
   "source": [
    "x = \"Hi I am Rabia Naz \"\n",
    "count = 0\n",
    "for word in x:\n",
    "    if word == \"A\" or word == \"E\" or word == \"I\" or word == \"O\" or word ==\"U\" or word ==\"a\" or word ==\"e\" or word == \"i\" or word ==\"o\" or word ==\"u\":\n",
    "        count += 1\n",
    "print(\"Number of vowel :\",count)"
   ]
  },
  {
   "cell_type": "markdown",
   "metadata": {},
   "source": [
    "Q6. Count the number of consonants in a string."
   ]
  },
  {
   "cell_type": "code",
   "execution_count": 12,
   "metadata": {},
   "outputs": [
    {
     "name": "stdout",
     "output_type": "stream",
     "text": [
      "Number of consonant is : 28\n"
     ]
    }
   ],
   "source": [
    "x = \"Hello How Are You I Am Fine \"\n",
    "count = 0    \n",
    "for char in x:\n",
    "      if char != \"A\" or char != \"E\" or char != \"I\" or char != \"O\" or char != \"U\" or char != \"a\" or char != \"e\" or char != \"i\" or char != \"o\" or char != \"u\":     \n",
    "        count +=1\n",
    "print(\"Number of consonant is :\" ,count)"
   ]
  },
  {
   "cell_type": "markdown",
   "metadata": {},
   "source": [
    "Q7. Remove all whitespaces from a string."
   ]
  },
  {
   "cell_type": "code",
   "execution_count": 118,
   "metadata": {},
   "outputs": [
    {
     "name": "stdout",
     "output_type": "stream",
     "text": [
      "iamhappyytojoinpwskills\n"
     ]
    }
   ],
   "source": [
    "x = \"i am happyy to join pw skills\"\n",
    "print(x.replace(\" \",\"\"))"
   ]
  },
  {
   "cell_type": "markdown",
   "metadata": {},
   "source": [
    "Q8. Find the length of a string without using the `len()` function."
   ]
  },
  {
   "cell_type": "code",
   "execution_count": 133,
   "metadata": {},
   "outputs": [
    {
     "name": "stdout",
     "output_type": "stream",
     "text": [
      "length of string is  17\n"
     ]
    }
   ],
   "source": [
    "x = \"what you wanna be\"\n",
    "count =0\n",
    "for char in x:\n",
    "    count +=1\n",
    "print(\"length of string is \", count)"
   ]
  },
  {
   "cell_type": "markdown",
   "metadata": {},
   "source": [
    "Q9. Check if a string contains a specific word."
   ]
  },
  {
   "cell_type": "code",
   "execution_count": 163,
   "metadata": {},
   "outputs": [
    {
     "name": "stdout",
     "output_type": "stream",
     "text": [
      "yes string contain ineuron\n"
     ]
    }
   ],
   "source": [
    "x = \"pw skills and ineuron working on same plateform\"\n",
    "word = \"ineuron\"\n",
    "if word in x:\n",
    "    print(\"yes string contain ineuron\")\n",
    "else:\n",
    "    print(\"no\")"
   ]
  },
  {
   "cell_type": "markdown",
   "metadata": {},
   "source": [
    "Q10. Replace a word in a string with another word."
   ]
  },
  {
   "cell_type": "code",
   "execution_count": 162,
   "metadata": {},
   "outputs": [
    {
     "name": "stdout",
     "output_type": "stream",
     "text": [
      "what are you searching for?\n"
     ]
    }
   ],
   "source": [
    "x = \"what are you looking for?\"\n",
    "y = \"searching\"\n",
    "z = (x[13:20])\n",
    "print(x.replace(z , y ))"
   ]
  },
  {
   "cell_type": "markdown",
   "metadata": {},
   "source": [
    "Q11. Count the occurrences of a word in a string."
   ]
  },
  {
   "cell_type": "code",
   "execution_count": 24,
   "metadata": {},
   "outputs": [
    {
     "name": "stdout",
     "output_type": "stream",
     "text": [
      "3\n"
     ]
    }
   ],
   "source": [
    "x = \"pw skills ia good study plateform ,pw skills  based on online study programme ,pw skills and ineuron works together\"\n",
    "word = \"pw skills\"\n",
    "count =x.count(word)\n",
    "print(count)"
   ]
  },
  {
   "cell_type": "markdown",
   "metadata": {},
   "source": [
    "Q12. Find the first occurrence of a word in a string."
   ]
  },
  {
   "cell_type": "code",
   "execution_count": 65,
   "metadata": {},
   "outputs": [
    {
     "name": "stdout",
     "output_type": "stream",
     "text": [
      "well \n",
      "well \n"
     ]
    }
   ],
   "source": [
    "s = \"well i am at my home\"\n",
    "x = (s[0:5:+1])\n",
    "print(x)"
   ]
  },
  {
   "cell_type": "markdown",
   "metadata": {},
   "source": [
    "Q13. Find the last occurrence of a word in a string."
   ]
  },
  {
   "cell_type": "code",
   "execution_count": 143,
   "metadata": {},
   "outputs": [
    {
     "name": "stdout",
     "output_type": "stream",
     "text": [
      "PLATEFORM\n"
     ]
    }
   ],
   "source": [
    " s = \"PWKILLS IS A WELL KNOWN STUDY PLATEFORM\"\n",
    "x = len(s)\n",
    "print(x.s.split[-1::-1])"
   ]
  },
  {
   "cell_type": "markdown",
   "metadata": {},
   "source": [
    "Q14. Split a string into a list of words."
   ]
  },
  {
   "cell_type": "code",
   "execution_count": 117,
   "metadata": {},
   "outputs": [
    {
     "name": "stdout",
     "output_type": "stream",
     "text": [
      "['pwskills', 'ineuron', 'study', 'online', 'courses']\n"
     ]
    }
   ],
   "source": [
    "s = \"pwskills ineuron study online courses\"\n",
    "print(s.split(\" \"))"
   ]
  },
  {
   "cell_type": "markdown",
   "metadata": {},
   "source": [
    "15. Join a list of words into a string."
   ]
  },
  {
   "cell_type": "code",
   "execution_count": 127,
   "metadata": {
    "scrolled": true
   },
   "outputs": [
    {
     "name": "stdout",
     "output_type": "stream",
     "text": [
      "pwskills ineuron study online courses\n"
     ]
    }
   ],
   "source": [
    "s = ['pwskills', 'ineuron', 'study', 'online', 'courses']\n",
    "print(' ' .join(s))"
   ]
  },
  {
   "cell_type": "markdown",
   "metadata": {},
   "source": [
    "Q16. Convert a string where words are separated by spaces to one where words\n",
    "are separated by underscores."
   ]
  },
  {
   "cell_type": "code",
   "execution_count": 32,
   "metadata": {},
   "outputs": [
    {
     "name": "stdout",
     "output_type": "stream",
     "text": [
      "i_am_rabia_naz_\n"
     ]
    }
   ],
   "source": [
    "s = \"i am rabia naz \"\n",
    "x = (s.replace( \" \" ,'_'))\n",
    "print(x)"
   ]
  },
  {
   "cell_type": "markdown",
   "metadata": {},
   "source": [
    "Q17. Check if a string starts with a specific word or phrase."
   ]
  },
  {
   "cell_type": "code",
   "execution_count": 44,
   "metadata": {},
   "outputs": [
    {
     "name": "stdout",
     "output_type": "stream",
     "text": [
      "True\n"
     ]
    }
   ],
   "source": [
    "string = \"hey how are you\"\n",
    "x = string.startswith(\"hey\")\n",
    "print(x)"
   ]
  },
  {
   "cell_type": "markdown",
   "metadata": {},
   "source": [
    "Q18. Check if a string ends with a specific word or phrase."
   ]
  },
  {
   "cell_type": "code",
   "execution_count": 45,
   "metadata": {},
   "outputs": [
    {
     "name": "stdout",
     "output_type": "stream",
     "text": [
      "True\n"
     ]
    }
   ],
   "source": [
    "string = \"hey how are you\"\n",
    "x = string.endswith(\" you\")\n",
    "print(x)"
   ]
  },
  {
   "cell_type": "markdown",
   "metadata": {},
   "source": [
    " Q19. Convert a string to title case (e.g., \"hello world\" to \"Hello World\")."
   ]
  },
  {
   "cell_type": "code",
   "execution_count": 20,
   "metadata": {},
   "outputs": [
    {
     "name": "stdout",
     "output_type": "stream",
     "text": [
      "HELLO WORLD\n"
     ]
    }
   ],
   "source": [
    " s =\"hello world\"\n",
    "print(s.upper())"
   ]
  },
  {
   "cell_type": "markdown",
   "metadata": {},
   "source": [
    " Q 20. Find the longest word in a string."
   ]
  },
  {
   "cell_type": "code",
   "execution_count": 86,
   "metadata": {},
   "outputs": [
    {
     "name": "stdout",
     "output_type": "stream",
     "text": [
      "extraordinary ,overwhelming,\n"
     ]
    }
   ],
   "source": [
    "s =\" happy\",\"sad\",\"awesome\",\"awesome\",\"extraordinary ,overwhelming,\"\n",
    "print(max(s,key=len))"
   ]
  },
  {
   "cell_type": "markdown",
   "metadata": {},
   "source": [
    "21. Find the shortest word in a string."
   ]
  },
  {
   "cell_type": "code",
   "execution_count": 84,
   "metadata": {},
   "outputs": [
    {
     "name": "stdout",
     "output_type": "stream",
     "text": [
      "i\n"
     ]
    }
   ],
   "source": [
    "string = \"i am rabia naz \"\n",
    "print(min(string,key=len))"
   ]
  },
  {
   "cell_type": "markdown",
   "metadata": {},
   "source": [
    "22. Reverse the order of words in a string."
   ]
  },
  {
   "cell_type": "code",
   "execution_count": 38,
   "metadata": {},
   "outputs": [
    {
     "name": "stdout",
     "output_type": "stream",
     "text": [
      "sllikswp\n"
     ]
    }
   ],
   "source": [
    "string = \"pwskills\"\n",
    "print(string[::-1])"
   ]
  },
  {
   "cell_type": "markdown",
   "metadata": {},
   "source": [
    "23. Check if a string is alphanumeric."
   ]
  },
  {
   "cell_type": "code",
   "execution_count": 19,
   "metadata": {},
   "outputs": [
    {
     "name": "stdout",
     "output_type": "stream",
     "text": [
      "string is alphanumeric\n"
     ]
    }
   ],
   "source": [
    "text = \"123rabianaz\"\n",
    "if text.isalnum():\n",
    "    print(\"string is alphanumeric\")\n",
    "else:\n",
    "    print(\"string is not alphanumeric\")"
   ]
  },
  {
   "cell_type": "markdown",
   "metadata": {},
   "source": [
    "Q24. Extract all digits from a string."
   ]
  },
  {
   "cell_type": "code",
   "execution_count": 18,
   "metadata": {},
   "outputs": [
    {
     "name": "stdout",
     "output_type": "stream",
     "text": [
      " 3734376271227529862836\n"
     ]
    }
   ],
   "source": [
    "a:str = \"djkashkjhfifhofeo373437bbdg6x2e7ibhi12et27e52ervsxyo98628e3x6\"\n",
    "alphabet = \"a,b,c,d,e,f,g,h,i,j,k,l,m,n,o,p,q,r,s,t,u,v,w,x,y,z\"\n",
    "b = \" \"\n",
    "for i in a:\n",
    "    if i not in alphabet:\n",
    "        b +=i\n",
    "print(b)"
   ]
  },
  {
   "cell_type": "markdown",
   "metadata": {},
   "source": [
    "Q25.Extract all alphabets from a string."
   ]
  },
  {
   "cell_type": "code",
   "execution_count": 15,
   "metadata": {},
   "outputs": [
    {
     "name": "stdout",
     "output_type": "stream",
     "text": [
      " sdfggfgyhghgyfgh\n"
     ]
    }
   ],
   "source": [
    "a:str = \"sdfggfgy677hg558hgy9754fgh0886\"\n",
    "numbers = \"1234567890\"\n",
    "b = \" \"\n",
    "for i in a:\n",
    "    if i not in numbers:\n",
    "        b +=i\n",
    "print(b)"
   ]
  },
  {
   "cell_type": "markdown",
   "metadata": {},
   "source": [
    "Q26. Count the uppercase letters in a string."
   ]
  },
  {
   "cell_type": "code",
   "execution_count": 6,
   "metadata": {},
   "outputs": [
    {
     "name": "stdout",
     "output_type": "stream",
     "text": [
      "Original String :  ASSDkkjiAERYUhhUHUHBHiuiouhguugfyytTdryytCTTF\n",
      "No. of Upper case characters :  20\n"
     ]
    }
   ],
   "source": [
    "def string_test(s):\n",
    "    d={\"UPPER_CASE\":0}\n",
    "    for c in s:\n",
    "        if c.isupper():\n",
    "            d[\"UPPER_CASE\"]+=1\n",
    "        else:\n",
    "            pass\n",
    "    print (\"Original String : \", s)\n",
    "    print (\"No. of Upper case characters : \", d[\"UPPER_CASE\"])\n",
    "    \n",
    "string_test('ASSDkkjiAERYUhhUHUHBHiuiouhguugfyytTdryytCTTF')"
   ]
  },
  {
   "cell_type": "markdown",
   "metadata": {},
   "source": [
    "Q27.Count the number of lowercase letters in a string."
   ]
  },
  {
   "cell_type": "code",
   "execution_count": 4,
   "metadata": {},
   "outputs": [
    {
     "name": "stdout",
     "output_type": "stream",
     "text": [
      "Original String :  ASSDkkji hhUHUHBHiuiouhguugfyytTdryytCTTF\n",
      "No. of Lower case Characters :  25\n"
     ]
    }
   ],
   "source": [
    "def string_test(s):\n",
    "    d={\"LOWER_CASE\":0}\n",
    "    for c in s:\n",
    "        if c.islower():\n",
    "            d[\"LOWER_CASE\"]+=1\n",
    "        else:\n",
    "            pass\n",
    "    print (\"Original String : \", s)\n",
    "    \n",
    "    print (\"No. of Lower case Characters : \", d[\"LOWER_CASE\"])\n",
    "\n",
    "string_test('ASSDkkji hhUHUHBHiuiouhguugfyytTdryytCTTF')"
   ]
  },
  {
   "cell_type": "markdown",
   "metadata": {},
   "source": [
    "28. Swap the case of each character in a string."
   ]
  },
  {
   "cell_type": "code",
   "execution_count": 7,
   "metadata": {},
   "outputs": [
    {
     "name": "stdout",
     "output_type": "stream",
     "text": [
      "i aM rABIA nAZ,i hAVE jOIN pWSKILLS\n"
     ]
    }
   ],
   "source": [
    "str = \"I Am Rabia Naz,I Have Join Pwskills\"\n",
    "x=\"\"\n",
    "for i in str:\n",
    "    if(i.isupper()):\n",
    "        x+=i.lower()\n",
    "    else:\n",
    "        x+=i.upper()\n",
    "print(x)"
   ]
  },
  {
   "cell_type": "markdown",
   "metadata": {},
   "source": [
    "29. Remove a specific word from a string."
   ]
  },
  {
   "cell_type": "code",
   "execution_count": 75,
   "metadata": {},
   "outputs": [
    {
     "name": "stdout",
     "output_type": "stream",
     "text": [
      "pwskills,ineuron,working on same path\n",
      "pwskills,ineuron,working on same path\n"
     ]
    }
   ],
   "source": [
    "def remove_word(input_string, word_to_remove):\n",
    "    words = input_string.split()  \n",
    "    filtered_words = [word for word in words if word != word_to_remove]  \n",
    "    modified_string = ' '.join(filtered_words)  \n",
    "    return modified_string\n",
    "input_string = \"pwskills,ineuron,working on same path\" \n",
    "word_to_remove = \"ineuron\"\n",
    "result = remove_word(input_string, word_to_remove)\n",
    "print(result)"
   ]
  },
  {
   "cell_type": "markdown",
   "metadata": {},
   "source": [
    "30. Check if a string is a valid email address."
   ]
  },
  {
   "cell_type": "code",
   "execution_count": 48,
   "metadata": {},
   "outputs": [
    {
     "name": "stdout",
     "output_type": "stream",
     "text": [
      "Valid Email\n",
      "Valid Email\n",
      "Invalid Email\n"
     ]
    }
   ],
   "source": [
    "import re\n",
    "regex = r'\\b[A-Za-z0-9._%+-]+@[A-Za-z0-9.-]+\\.[A-Z|a-z]{2,7}\\b'\n",
    "\n",
    "def check(email):\n",
    "\n",
    "    if(re.fullmatch(regex, email)):\n",
    "        print(\"Valid Email\")\n",
    "\n",
    "    else:\n",
    "        print(\"Invalid Email\")\n",
    "\n",
    "if __name__ == '__main__':\n",
    "\n",
    "    email = \"rabianaz123@gmail.com\"\n",
    "    check(email)\n",
    "\n",
    "    email = \"pwskill+-001@gmail.com\"\n",
    "    check(email)\n",
    "\n",
    "    email = \"ineuron326.com\"\n",
    "    check(email)"
   ]
  },
  {
   "cell_type": "markdown",
   "metadata": {},
   "source": [
    "31.Extract the username from an email address string."
   ]
  },
  {
   "cell_type": "code",
   "execution_count": 73,
   "metadata": {},
   "outputs": [
    {
     "name": "stdout",
     "output_type": "stream",
     "text": [
      "The original string is :  rabianaz123@nazgirl.com\n",
      "The extracted user name :  rabianaz123\n"
     ]
    }
   ],
   "source": [
    "test_str = 'rabianaz123@nazgirl.com'\n",
    "print(\"The original string is : \" ,(test_str))\n",
    "res = test_str [0 : test_str.index('@')]\n",
    "print(\"The extracted user name : \" ,(res))\n"
   ]
  },
  {
   "cell_type": "markdown",
   "metadata": {},
   "source": [
    "32. Extract the domain name from an email address string."
   ]
  },
  {
   "cell_type": "code",
   "execution_count": 55,
   "metadata": {},
   "outputs": [
    {
     "name": "stdout",
     "output_type": "stream",
     "text": [
      "The original string is :  manjeet@geeksforgeeks.com\n",
      "The extracted domain name :  geeksforgeeks.com\n"
     ]
    }
   ],
   "source": [
    "\n",
    "test_str = 'manjeet@geeksforgeeks.com'\n",
    "\n",
    "print(\"The original string is : \" , (test_str))\n",
    "\n",
    "res = test_str[test_str.index('@') + 1 : ]\n",
    "\n",
    "print(\"The extracted domain name : \" ,(res))\n"
   ]
  },
  {
   "cell_type": "markdown",
   "metadata": {},
   "source": [
    "33. Replace multiple spaces in a string with a single space."
   ]
  },
  {
   "cell_type": "code",
   "execution_count": 76,
   "metadata": {},
   "outputs": [
    {
     "name": "stdout",
     "output_type": "stream",
     "text": [
      "'sug huhg ugyu j iu isk kgui uiyieg i'\n"
     ]
    }
   ],
   "source": [
    "import re\n",
    "my_str = \"sug huhg    ugyu j iu isk kgui  uiyieg i\"\n",
    "result = re.sub(r'\\s+', ' ', my_str)\n",
    "print(repr(result))  "
   ]
  },
  {
   "cell_type": "markdown",
   "metadata": {},
   "source": [
    "34. Check if a string is a valid URL."
   ]
  },
  {
   "cell_type": "code",
   "execution_count": 97,
   "metadata": {},
   "outputs": [
    {
     "name": "stdout",
     "output_type": "stream",
     "text": [
      "True\n",
      "False\n"
     ]
    }
   ],
   "source": [
    "import re\n",
    "regex = re.compile(\n",
    "        r'^(?:http|ftp)s?://' # http:// or https://\n",
    "        r'(?:(?:[A-Z0-9](?:[A-Z0-9-]{0,61}[A-Z0-9])?\\.)+(?:[A-Z]{2,6}\\.?|[A-Z0-9-]{2,}\\.?)|' #domain...\n",
    "        r'localhost|' #localhost...\n",
    "        r'\\d{1,3}\\.\\d{1,3}\\.\\d{1,3}\\.\\d{1,3})' # ...or ip\n",
    "        r'(?::\\d+)?' # optional port\n",
    "        r'(?:/?|[/?]\\S+)$', re.IGNORECASE)\n",
    "\n",
    "print(re.match(regex, \"http://www.example.com\") is not None) # True\n",
    "print(re.match(regex, \"example.com\") is not None)            # False"
   ]
  },
  {
   "cell_type": "markdown",
   "metadata": {},
   "source": [
    "35. Extract the protocol (http or https) from a URL string."
   ]
  },
  {
   "cell_type": "code",
   "execution_count": 83,
   "metadata": {},
   "outputs": [
    {
     "name": "stdout",
     "output_type": "stream",
     "text": [
      "The original URL is :  https://www.example.com\n",
      "The extracted URL :  https\n"
     ]
    }
   ],
   "source": [
    "test_url = \"https://www.example.com\"\n",
    "print(\"The original URL is : \" ,(test_url))\n",
    "res = test_url [0 : test_url.index(':')]\n",
    "print(\"The extracted URL : \" ,(res))"
   ]
  },
  {
   "cell_type": "markdown",
   "metadata": {},
   "source": [
    "36. Find the frequency of each character in a string."
   ]
  },
  {
   "cell_type": "code",
   "execution_count": 88,
   "metadata": {},
   "outputs": [
    {
     "name": "stdout",
     "output_type": "stream",
     "text": [
      "Count of all characters in rabianazz is :\n",
      "  {'r': 1, 'a': 3, 'b': 1, 'i': 1, 'n': 1, 'z': 2}\n"
     ]
    }
   ],
   "source": [
    "test_str = \"rabianazz\"\n",
    "\n",
    "all_freq = {}\n",
    "\n",
    "for i in test_str:\n",
    "    if i in all_freq:\n",
    "        all_freq[i] += 1\n",
    "    else:\n",
    "        all_freq[i] = 1\n",
    "print(\"Count of all characters in rabianazz is :\\n \"  ,(all_freq))"
   ]
  },
  {
   "cell_type": "markdown",
   "metadata": {},
   "source": [
    "37. Remove all punctuation from a string."
   ]
  },
  {
   "cell_type": "code",
   "execution_count": 118,
   "metadata": {},
   "outputs": [
    {
     "name": "stdout",
     "output_type": "stream",
     "text": [
      "The original string is : RABIA ;'?/NAZ ,..;'LIVE. //;AT ;\n",
      "The string after removing punctuation  : RABIA NAZ LIVE AT \n"
     ]
    }
   ],
   "source": [
    "import string\n",
    "test_str = \"RABIA ;'?/NAZ ,..;'LIVE. //;AT ;\"\n",
    "\n",
    "print(\"The original string is : \" + test_str)\n",
    "\n",
    "for punctuation in string.punctuation:\n",
    "    test_str = test_str.replace(punctuation, '')\n",
    "\n",
    "print(\"The string after removing punctuation  : \" + test_str)\n"
   ]
  },
  {
   "cell_type": "markdown",
   "metadata": {},
   "source": [
    "Q 38.Check if a string contains only digits."
   ]
  },
  {
   "cell_type": "code",
   "execution_count": 123,
   "metadata": {},
   "outputs": [
    {
     "name": "stdout",
     "output_type": "stream",
     "text": [
      "initial string : 12367746767815572657125576 abc122311hhjjh234424312vvjvh\n",
      "string1 contains only digit\n",
      "string2 doesn't contains only digit\n"
     ]
    }
   ],
   "source": [
    "string1 = \"12367746767815572657125576\"\n",
    "string2 = \"abc122311hhjjh234424312vvjvh\"\n",
    "print ('initial string :',string1,string2) \n",
    "if string1.isdigit():\n",
    "    print(\"string1 contains only digit\")\n",
    "else:\n",
    "    print(\"string1 doesn't contains only digit\")\n",
    "if string2.isdigit():\n",
    "     print(\"string2 contains only digit\")\n",
    "else:\n",
    "      print(\"string2 doesn't contains only digit\")"
   ]
  },
  {
   "cell_type": "markdown",
   "metadata": {},
   "source": [
    "Q39.Check if a string contains only alphabets."
   ]
  },
  {
   "cell_type": "code",
   "execution_count": 124,
   "metadata": {},
   "outputs": [
    {
     "name": "stdout",
     "output_type": "stream",
     "text": [
      "initial string : ABBFKKDBHDBHIHLKBBHJVWVKDJKJVHDVKKKJVDHHKSBKV abc122311hhjjh234424312vvjvh\n",
      "string1 contains only alphabet\n",
      "string2 doesn't contains only alphabet\n"
     ]
    }
   ],
   "source": [
    "string1 = \"ABBFKKDBHDBHIHLKBBHJVWVKDJKJVHDVKKKJVDHHKSBKV\"\n",
    "string2 = \"abc122311hhjjh234424312vvjvh\"\n",
    "print ('initial string :',string1,string2) \n",
    "if string1.isalpha():\n",
    "    print(\"string1 contains only alphabet\")\n",
    "else:\n",
    "    print(\"string1 doesn't contains only alphabet\")\n",
    "if string2.isalpha():\n",
    "     print(\"string2 contains only alphabet\")\n",
    "else:\n",
    "      print(\"string2 doesn't contains only alphabet\")"
   ]
  },
  {
   "cell_type": "markdown",
   "metadata": {},
   "source": [
    "Q 40.Convert a string to a list of characters."
   ]
  },
  {
   "cell_type": "code",
   "execution_count": 125,
   "metadata": {},
   "outputs": [
    {
     "name": "stdout",
     "output_type": "stream",
     "text": [
      "['r', 'a', 'b', 'i', 'a', 'n', 'a', 'z', '1', '2', '3']\n"
     ]
    }
   ],
   "source": [
    "string = 'rabianaz123'\n",
    "lst = []\n",
    "\n",
    "for letter in string:\n",
    "    lst.append(letter)\n",
    "\n",
    "print(lst)"
   ]
  },
  {
   "cell_type": "markdown",
   "metadata": {},
   "source": [
    "Q41. Check if two strings are anagrams."
   ]
  },
  {
   "cell_type": "code",
   "execution_count": 129,
   "metadata": {},
   "outputs": [
    {
     "name": "stdout",
     "output_type": "stream",
     "text": [
      "YES, They are Anagram\n"
     ]
    }
   ],
   "source": [
    "def is_anagram(a, b):\n",
    "    sorted_a = sorted(a)\n",
    "    sorted_b = sorted(b)\n",
    "\n",
    "    if sorted_a == sorted_b:\n",
    "        return True\n",
    "    else:\n",
    "        return False\n",
    "if __name__ == \"__main__\":\n",
    "    a = \"rabianaz2316@#\"\n",
    "    b = \"2316@naz#rabia\"\n",
    "\n",
    "if is_anagram(a, b):\n",
    "        print(\"YES, They are Anagram\")\n",
    "else:\n",
    "        print(\"NO, They are not Anagram\")\n"
   ]
  },
  {
   "cell_type": "markdown",
   "metadata": {},
   "source": [
    "Q42. Encode a string using a Caesar cipher."
   ]
  },
  {
   "cell_type": "code",
   "execution_count": 181,
   "metadata": {},
   "outputs": [
    {
     "name": "stdout",
     "output_type": "stream",
     "text": [
      "Plain Text is : HELLO EVERYONE\n"
     ]
    },
    {
     "ename": "TypeError",
     "evalue": "'str' object is not callable",
     "output_type": "error",
     "traceback": [
      "\u001b[1;31m---------------------------------------------------------------------------\u001b[0m",
      "\u001b[1;31mTypeError\u001b[0m                                 Traceback (most recent call last)",
      "\u001b[1;32m<ipython-input-181-758edc56d0dc>\u001b[0m in \u001b[0;36m<module>\u001b[1;34m\u001b[0m\n\u001b[0;32m     21\u001b[0m \u001b[0mn\u001b[0m \u001b[1;33m=\u001b[0m \u001b[1;36m1\u001b[0m\u001b[1;33m\u001b[0m\u001b[1;33m\u001b[0m\u001b[0m\n\u001b[0;32m     22\u001b[0m \u001b[0mprint\u001b[0m\u001b[1;33m(\u001b[0m\u001b[1;34m\"Plain Text is : \"\u001b[0m \u001b[1;33m+\u001b[0m \u001b[0mplaintext\u001b[0m\u001b[1;33m)\u001b[0m\u001b[1;33m\u001b[0m\u001b[1;33m\u001b[0m\u001b[0m\n\u001b[1;32m---> 23\u001b[1;33m \u001b[0mprint\u001b[0m\u001b[1;33m(\u001b[0m\u001b[1;34m\"Shift pattern is : \"\u001b[0m \u001b[1;33m+\u001b[0m \u001b[0mstr\u001b[0m\u001b[1;33m(\u001b[0m\u001b[0mn\u001b[0m\u001b[1;33m)\u001b[0m\u001b[1;33m)\u001b[0m\u001b[1;33m\u001b[0m\u001b[1;33m\u001b[0m\u001b[0m\n\u001b[0m\u001b[0;32m     24\u001b[0m \u001b[0mprint\u001b[0m\u001b[1;33m(\u001b[0m\u001b[1;34m\"Cipher Text is : \"\u001b[0m \u001b[1;33m+\u001b[0m \u001b[0mencrypt_text\u001b[0m\u001b[1;33m(\u001b[0m\u001b[0mplaintext\u001b[0m\u001b[1;33m,\u001b[0m\u001b[0mn\u001b[0m\u001b[1;33m)\u001b[0m\u001b[1;33m)\u001b[0m\u001b[1;33m\u001b[0m\u001b[1;33m\u001b[0m\u001b[0m\n",
      "\u001b[1;31mTypeError\u001b[0m: 'str' object is not callable"
     ]
    }
   ],
   "source": [
    "def encrypt_text(plaintext,n):\n",
    "    ans = \"\"\n",
    "\n",
    "   for i in range(len(plaintext)):\n",
    "        ch = plaintext[i]\n",
    "        if ch==\" \":\n",
    "            ans+=\" \"\n",
    "    \n",
    "        elif (ch.isupper()):\n",
    "            ans += chr((ord(ch) + n-65) % 26 + 65)\n",
    "        else:\n",
    "            ans += chr((ord(ch) + n-97) % 26 + 97)\n",
    "    \n",
    "    return ans\n",
    "\n",
    "plaintext = \"HELLO EVERYONE\"\n",
    "n = 1\n",
    "print(\"Plain Text is : \" + plaintext)\n",
    "print(\"Shift pattern is : \" + str(n))\n",
    "print(\"Cipher Text is : \" + encrypt_text(plaintext,n))"
   ]
  },
  {
   "cell_type": "markdown",
   "metadata": {},
   "source": [
    "Q43. Decode a Caesar cipher encoded string."
   ]
  },
  {
   "cell_type": "code",
   "execution_count": 182,
   "metadata": {},
   "outputs": [
    {
     "name": "stdout",
     "output_type": "stream",
     "text": [
      "For key 0, decrypted text: ks gvozz ohhoqy hvsa tfca hvs tfcbh oh bccb cb Tisgrom\n",
      "For key 1, decrypted text: jr funyy nggnpx gurz sebz gur sebag ng abba ba Thrfqnl\n",
      "For key 2, decrypted text: iq etmxx mffmow ftqy rday ftq rdazf mf zaaz az Tgqepmk\n",
      "For key 3, decrypted text: hp dslww leelnv espx qczx esp qczye le yzzy zy Tfpdolj\n",
      "For key 4, decrypted text: go crkvv kddkmu drow pbyw dro pbyxd kd xyyx yx Teocnki\n",
      "For key 5, decrypted text: fn bqjuu jccjlt cqnv oaxv cqn oaxwc jc wxxw xw Tdnbmjh\n",
      "For key 6, decrypted text: em apitt ibbiks bpmu nzwu bpm nzwvb ib vwwv wv Tcmalig\n",
      "For key 7, decrypted text: dl zohss haahjr aolt myvt aol myvua ha uvvu vu Tblzkhf\n",
      "For key 8, decrypted text: ck yngrr gzzgiq znks lxus znk lxutz gz tuut ut Takyjge\n",
      "For key 9, decrypted text: bj xmfqq fyyfhp ymjr kwtr ymj kwtsy fy stts ts Tzjxifd\n",
      "For key 10, decrypted text: ai wlepp exxego xliq jvsq xli jvsrx ex rssr sr Tyiwhec\n",
      "For key 11, decrypted text: zh vkdoo dwwdfn wkhp iurp wkh iurqw dw qrrq rq Txhvgdb\n",
      "For key 12, decrypted text: yg ujcnn cvvcem vjgo htqo vjg htqpv cv pqqp qp Twgufca\n",
      "For key 13, decrypted text: xf tibmm buubdl uifn gspn uif gspou bu oppo po Tvftebz\n",
      "For key 14, decrypted text: we shall attack them from the front at noon on Tuesday\n",
      "For key 15, decrypted text: vd rgzkk zsszbj sgdl eqnl sgd eqnms zs mnnm nm Ttdrczx\n",
      "For key 16, decrypted text: uc qfyjj yrryai rfck dpmk rfc dpmlr yr lmml ml Tscqbyw\n",
      "For key 17, decrypted text: tb pexii xqqxzh qebj colj qeb colkq xq kllk lk Trbpaxv\n",
      "For key 18, decrypted text: sa odwhh wppwyg pdai bnki pda bnkjp wp jkkj kj Tqaozwu\n",
      "For key 19, decrypted text: rz ncvgg voovxf oczh amjh ocz amjio vo ijji ji Tpznyvt\n",
      "For key 20, decrypted text: qy mbuff unnuwe nbyg zlig nby zlihn un hiih ih Toymxus\n",
      "For key 21, decrypted text: px latee tmmtvd maxf ykhf max ykhgm tm ghhg hg Tnxlwtr\n",
      "For key 22, decrypted text: ow kzsdd sllsuc lzwe xjge lzw xjgfl sl fggf gf Tmwkvsq\n",
      "For key 23, decrypted text: nv jyrcc rkkrtb kyvd wifd kyv wifek rk effe fe Tlvjurp\n",
      "For key 24, decrypted text: mu ixqbb qjjqsa jxuc vhec jxu vhedj qj deed ed Tkuitqo\n",
      "For key 25, decrypted text: lt hwpaa piiprz iwtb ugdb iwt ugdci pi cddc dc Tjthspn\n"
     ]
    }
   ],
   "source": [
    "cryptic_text = \"ks gvozz ohhoqy hvsa tfca hvs tfcbh oh bccb cb Tisgrom\"\n",
    "\n",
    "for i in range(0,26):\n",
    "\n",
    "    plain_text = cipher_decrypt_lower(cryptic_text, i)\n",
    "\n",
    "    print(\"For key {}, decrypted text: {}\".format(i, plain_text))"
   ]
  },
  {
   "cell_type": "markdown",
   "metadata": {},
   "source": [
    "44. Find the most frequent word in a string."
   ]
  },
  {
   "cell_type": "code",
   "execution_count": 192,
   "metadata": {},
   "outputs": [
    {
     "name": "stdout",
     "output_type": "stream",
     "text": [
      "The original list is :  ['pwskills', 'is the best', 'pwskills a study plateform', 'pwskills mentors works hard']\n",
      "Word with maximum frequency :  pwskills\n"
     ]
    }
   ],
   "source": [
    "from statistics import mode\n",
    "\n",
    "test_list = [\"pwskills\" ,\"is the best\",\"pwskills a study plateform\",\"pwskills mentors works hard\"]\n",
    "\n",
    "print(\"The original list is : \",test_list)\n",
    "\n",
    "temp = [wrd for sub in test_list for wrd in sub.split()]\n",
    "\n",
    "res = mode(temp)\n",
    "\n",
    "print(\"Word with maximum frequency : \" ,res)"
   ]
  },
  {
   "cell_type": "markdown",
   "metadata": {},
   "source": [
    "45. Find all unique words in a string."
   ]
  },
  {
   "cell_type": "code",
   "execution_count": 193,
   "metadata": {},
   "outputs": [
    {
     "name": "stdout",
     "output_type": "stream",
     "text": [
      "{'two', 'one'}\n",
      "2\n"
     ]
    }
   ],
   "source": [
    "my_str = 'one one two two'\n",
    "\n",
    "unique_words = set(my_str.split())\n",
    "print(unique_words) \n",
    "\n",
    "length = len(unique_words)\n",
    "print(length)\n"
   ]
  },
  {
   "cell_type": "markdown",
   "metadata": {},
   "source": [
    "46. Count the number of syllables in a string."
   ]
  },
  {
   "cell_type": "code",
   "execution_count": 198,
   "metadata": {},
   "outputs": [
    {
     "name": "stdout",
     "output_type": "stream",
     "text": [
      "4\n"
     ]
    }
   ],
   "source": [
    "def count(word):\n",
    "    new_word = word\n",
    "    count_syllables = new_word.split('-')\n",
    "    return len(count_syllables)\n",
    "print(count(\"h-o-te-l\"))"
   ]
  },
  {
   "cell_type": "markdown",
   "metadata": {},
   "source": [
    "47. Check if a string contains any special characters."
   ]
  },
  {
   "cell_type": "code",
   "execution_count": 199,
   "metadata": {},
   "outputs": [
    {
     "name": "stdout",
     "output_type": "stream",
     "text": [
      "The string does not contain special characters.\n",
      "The string contains special characters.\n"
     ]
    }
   ],
   "source": [
    "def has_special_char(s):\n",
    "    for c in s:\n",
    "        if not (c.isalpha() or c.isdigit() or c == ' '):\n",
    "            return True\n",
    "    return False\n",
    "\n",
    "s = \"Hello World\"\n",
    "if has_special_char(s):\n",
    "    print(\"The string contains special characters.\")\n",
    "else:\n",
    "    print(\"The string does not contain special characters.\")\n",
    "\n",
    "s = \"Hello@World\"\n",
    "if has_special_char(s):\n",
    "    print(\"The string contains special characters.\")\n",
    "else:\n",
    "    print(\"The string does not contain special characters.\")"
   ]
  },
  {
   "cell_type": "markdown",
   "metadata": {},
   "source": [
    "Q48.Remove the nth word from a string."
   ]
  },
  {
   "cell_type": "code",
   "execution_count": 200,
   "metadata": {},
   "outputs": [
    {
     "name": "stdout",
     "output_type": "stream",
     "text": [
      "New list is : ['he', 'is', 'ankit', 'is', 'raj', 'is', 'ankit raj']\n"
     ]
    }
   ],
   "source": [
    "def remove_word(list1, word, n1):\n",
    "    def generator():\n",
    "        count = 0\n",
    "        for i in list1:\n",
    "            if i != word or (i == word and count != n1):\n",
    "                yield i\n",
    "            if i == word:\n",
    "                count += 1\n",
    "    return list(generator())\n",
    "\n",
    "list1 = [\"he\", \"is\", \"ankit\", \"is\", \"raj\", \"is\", \"ankit raj\"]\n",
    "word = \"is\"\n",
    "n1 = 3\n",
    "\n",
    "print(\"New list is :\", remove_word(list1, word, n1))\n"
   ]
  },
  {
   "cell_type": "markdown",
   "metadata": {},
   "source": [
    "49. Insert a word at the nth position in a string."
   ]
  },
  {
   "cell_type": "code",
   "execution_count": 212,
   "metadata": {},
   "outputs": [
    {
     "name": "stdout",
     "output_type": "stream",
     "text": [
      "Name Age Group Group Group Class Profession\n"
     ]
    }
   ],
   "source": [
    "line='Name Age Group Class Profession'\n",
    "arr = line.split()\n",
    "for i in range(2):\n",
    "    arr.insert(2, arr[2])\n",
    "print(' '.join(arr))"
   ]
  },
  {
   "cell_type": "markdown",
   "metadata": {},
   "source": [
    "50. Convert a CSV string to a list of lists."
   ]
  },
  {
   "cell_type": "code",
   "execution_count": 71,
   "metadata": {},
   "outputs": [
    {
     "name": "stdout",
     "output_type": "stream",
     "text": [
      "['Name', ' Age', ' Country']\n",
      "['John', ' 25', ' USA']\n",
      "['Alice', ' 30', ' Canada']\n",
      "['Bob', ' 22', ' UK']\n",
      "['Name', ' Age', ' Country']\n",
      "['John', ' 25', ' USA']\n",
      "['Alice', ' 30', ' Canada']\n",
      "['Bob', ' 22', ' UK']\n"
     ]
    }
   ],
   "source": [
    "def csv_string_to_list(csv_string):\n",
    "    lines = csv_string.split('\\n')\n",
    "    result = []\n",
    "\n",
    "    for line in lines:\n",
    "        fields = line.split(',')\n",
    "        result.append(fields)\n",
    "    return result\n",
    "csv_data = \"Name, Age, Country\\nJohn, 25, USA\\nAlice, 30, Canada\\nBob, 22, UK\"\n",
    "list_of_lists = csv_string_to_list(csv_data)\n",
    "for row in list_of_lists:\n",
    "    print(row)"
   ]
  },
  {
   "cell_type": "markdown",
   "metadata": {},
   "source": [
    "# List Based Practice Problem :"
   ]
  },
  {
   "cell_type": "markdown",
   "metadata": {},
   "source": [
    "1. Create a list with integers from 1 to 10."
   ]
  },
  {
   "cell_type": "code",
   "execution_count": 2,
   "metadata": {},
   "outputs": [
    {
     "data": {
      "text/plain": [
       "[1, 2, 3, 4, 5, 6, 7, 8, 9, 10]"
      ]
     },
     "execution_count": 2,
     "metadata": {},
     "output_type": "execute_result"
    }
   ],
   "source": [
    "list(range(1,11))"
   ]
  },
  {
   "cell_type": "markdown",
   "metadata": {},
   "source": [
    "2. Find the length of a list without using the `len()` function."
   ]
  },
  {
   "cell_type": "code",
   "execution_count": 12,
   "metadata": {},
   "outputs": [
    {
     "name": "stdout",
     "output_type": "stream",
     "text": [
      "Enter a string –78367186281\n",
      "11\n"
     ]
    }
   ],
   "source": [
    "count = 0\n",
    "for i in input(\"Enter a string –\"):\n",
    "    count+=1\n",
    "print(count)"
   ]
  },
  {
   "cell_type": "markdown",
   "metadata": {},
   "source": [
    "3. Append an element to the end of a list."
   ]
  },
  {
   "cell_type": "code",
   "execution_count": 13,
   "metadata": {},
   "outputs": [
    {
     "name": "stdout",
     "output_type": "stream",
     "text": [
      "Current Fruits List ['Apple', 'Banana']\n",
      "Please enter a fruit name:\n",
      "mango\n",
      "Updated Fruits List ['Apple', 'Banana', 'mango']\n"
     ]
    }
   ],
   "source": [
    "fruit_list = [\"Apple\", \"Banana\"]\n",
    "\n",
    "print(f'Current Fruits List {fruit_list}')\n",
    "\n",
    "new_fruit = input(\"Please enter a fruit name:\\n\")\n",
    "\n",
    "fruit_list.append(new_fruit)\n",
    "\n",
    "print(f'Updated Fruits List {fruit_list}')"
   ]
  },
  {
   "cell_type": "markdown",
   "metadata": {},
   "source": [
    "4. Insert an element at a specific index in a list."
   ]
  },
  {
   "cell_type": "code",
   "execution_count": 18,
   "metadata": {},
   "outputs": [
    {
     "name": "stdout",
     "output_type": "stream",
     "text": [
      "Current Numbers List [0, 2, 3, 4, 5]\n",
      "Please enter a number to add to list:\n",
      "1\n",
      "Please enter the index between 0 and 4 to add the number:\n",
      "1\n",
      "Updated Numbers List [0, 1, 2, 3, 4, 5]\n"
     ]
    }
   ],
   "source": [
    "num_list = [0, 2, 3, 4, 5]\n",
    "\n",
    "print(f'Current Numbers List {num_list}')\n",
    "\n",
    "num = int(input(\"Please enter a number to add to list:\\n\"))\n",
    "\n",
    "index = int(input(f'Please enter the index between 0 and {len(num_list) - 1} to add the number:\\n'))\n",
    "\n",
    "num_list.insert(index, num)\n",
    "\n",
    "print(f'Updated Numbers List {num_list}')"
   ]
  },
  {
   "cell_type": "markdown",
   "metadata": {},
   "source": [
    "5. Remove an element from a list by its value."
   ]
  },
  {
   "cell_type": "code",
   "execution_count": 21,
   "metadata": {},
   "outputs": [
    {
     "name": "stdout",
     "output_type": "stream",
     "text": [
      "['JavaScript', 'Python', 'Java', 'C++']\n",
      "['Python', 'Java', 'C++']\n"
     ]
    }
   ],
   "source": [
    "programming_languages = [\"JavaScript\", \"Python\", \"Java\", \"C++\"]\n",
    "\n",
    "print(programming_languages)\n",
    "\n",
    "programming_languages.remove(\"JavaScript\")\n",
    "\n",
    "print(programming_languages)"
   ]
  },
  {
   "cell_type": "markdown",
   "metadata": {},
   "source": [
    "6. Remove an element from a list by its index."
   ]
  },
  {
   "cell_type": "code",
   "execution_count": 52,
   "metadata": {},
   "outputs": [
    {
     "name": "stdout",
     "output_type": "stream",
     "text": [
      "Current Numbers List [0, 1, 2, 3, 4, 5]\n",
      "Updated Numbers List [1, 2, 3, 4, 5]\n"
     ]
    }
   ],
   "source": [
    "num_list = [0, 1, 2, 3, 4, 5]\n",
    "\n",
    "print(f'Current Numbers List {num_list}')\n",
    "\n",
    "num_list.pop(index)\n",
    "\n",
    "print(f'Updated Numbers List {num_list}')\n"
   ]
  },
  {
   "cell_type": "code",
   "execution_count": 33,
   "metadata": {},
   "outputs": [
    {
     "name": "stdout",
     "output_type": "stream",
     "text": [
      "['Power bi ', 'JavaScript', 'Python', 'Java', 'C++']\n",
      "['Power bi ', 'JavaScript', 'Python', 'Java']\n"
     ]
    }
   ],
   "source": [
    "programming_languages = [\"Power bi \",\"JavaScript\", \"Python\", \"Java\", \"C++\"]\n",
    "\n",
    "print(programming_languages)\n",
    "\n",
    "programming_languages.pop(index)\n",
    "\n",
    "print(programming_languages)"
   ]
  },
  {
   "cell_type": "markdown",
   "metadata": {},
   "source": [
    "7. Check if an element exists in a list."
   ]
  },
  {
   "cell_type": "code",
   "execution_count": 42,
   "metadata": {},
   "outputs": [
    {
     "name": "stdout",
     "output_type": "stream",
     "text": [
      "5\n",
      "exist\n"
     ]
    }
   ],
   "source": [
    "lst= [ 0, 1, 2, 3, 4, 5] \n",
    "i = int(input())\n",
    "if i in lst:\n",
    "    print(\"exist\")\n",
    "else:\n",
    "    print(\"not exist\")"
   ]
  },
  {
   "cell_type": "markdown",
   "metadata": {},
   "source": [
    "8. Find the index of the first occurrence of an element in a list."
   ]
  },
  {
   "cell_type": "code",
   "execution_count": 13,
   "metadata": {},
   "outputs": [
    {
     "data": {
      "text/plain": [
       "0"
      ]
     },
     "execution_count": 13,
     "metadata": {},
     "output_type": "execute_result"
    }
   ],
   "source": [
    "names = [\"Alice\", \"Bob\", \"Charlie\"]\n",
    "\n",
    "names.index(\"Alice\")"
   ]
  },
  {
   "cell_type": "markdown",
   "metadata": {},
   "source": [
    "9. Count the occurrences of an element in a list."
   ]
  },
  {
   "cell_type": "code",
   "execution_count": 14,
   "metadata": {},
   "outputs": [
    {
     "name": "stdout",
     "output_type": "stream",
     "text": [
      "6\n"
     ]
    }
   ],
   "source": [
    "lst= [ 0, 1, 2, 3, 4, 5] \n",
    "count =0\n",
    "for i in lst :\n",
    "    count+=1\n",
    "print(count)\n"
   ]
  },
  {
   "cell_type": "markdown",
   "metadata": {},
   "source": [
    "10. Reverse the order of elements in a list."
   ]
  },
  {
   "cell_type": "code",
   "execution_count": 21,
   "metadata": {},
   "outputs": [
    {
     "name": "stdout",
     "output_type": "stream",
     "text": [
      "[5, 4, 3, 2, 1, 0]\n"
     ]
    }
   ],
   "source": [
    "lst= [ 0, 1, 2, 3, 4, 5] \n",
    "x = lst[::-1]\n",
    "print(x)"
   ]
  },
  {
   "cell_type": "markdown",
   "metadata": {},
   "source": [
    "11. Sort a list in ascending order."
   ]
  },
  {
   "cell_type": "code",
   "execution_count": 52,
   "metadata": {},
   "outputs": [
    {
     "name": "stdout",
     "output_type": "stream",
     "text": [
      "[2, 4, 5, 22, 29, 61, 64, 73, 83, 98, 399, 665, 745]\n"
     ]
    }
   ],
   "source": [
    "lst_name = [22,745,4,29,2,5,83,61,64,98,399,665,73]\n",
    "lst_name.sort()\n",
    "print(lst_name)        "
   ]
  },
  {
   "cell_type": "markdown",
   "metadata": {},
   "source": [
    "12. Sort a list in descending order."
   ]
  },
  {
   "cell_type": "code",
   "execution_count": 31,
   "metadata": {},
   "outputs": [
    {
     "name": "stdout",
     "output_type": "stream",
     "text": [
      "[745, 665, 399, 98, 83, 73, 72, 64, 61, 29, 22, 5, 4]\n"
     ]
    }
   ],
   "source": [
    "lst_name = [22,745,4,29,72,5,83,61,64,98,399,665,73]\n",
    "lst_name.sort(reverse = True)\n",
    "print(lst_name)"
   ]
  },
  {
   "cell_type": "markdown",
   "metadata": {},
   "source": [
    "13. Create a list of even numbers from 1 to 20."
   ]
  },
  {
   "cell_type": "code",
   "execution_count": 38,
   "metadata": {},
   "outputs": [
    {
     "name": "stdout",
     "output_type": "stream",
     "text": [
      "[2, 4, 6, 8, 10, 12, 14, 16, 18, 20]\n"
     ]
    }
   ],
   "source": [
    "lst=[1,20]\n",
    "x = [i for i in range(1,20 +1) if i %2 ==0]\n",
    "print(x)"
   ]
  },
  {
   "cell_type": "markdown",
   "metadata": {},
   "source": [
    "14. Create a list of odd numbers from 1 to 20."
   ]
  },
  {
   "cell_type": "code",
   "execution_count": 46,
   "metadata": {},
   "outputs": [
    {
     "name": "stdout",
     "output_type": "stream",
     "text": [
      "[1, 3, 5, 7, 9, 11, 13, 15, 17, 19]\n"
     ]
    }
   ],
   "source": [
    "lst=[1,20]\n",
    "x = [i for i in range(1,20) if i%2!=0]\n",
    "print(x)"
   ]
  },
  {
   "cell_type": "markdown",
   "metadata": {},
   "source": [
    "15. Find the sum of all elements in a list."
   ]
  },
  {
   "cell_type": "code",
   "execution_count": 48,
   "metadata": {},
   "outputs": [
    {
     "data": {
      "text/plain": [
       "396"
      ]
     },
     "execution_count": 48,
     "metadata": {},
     "output_type": "execute_result"
    }
   ],
   "source": [
    "lst=[2,4,55,67,87,79,56,46]\n",
    "sum(lst)"
   ]
  },
  {
   "cell_type": "markdown",
   "metadata": {},
   "source": [
    "16. Find the maximum value in a list."
   ]
  },
  {
   "cell_type": "code",
   "execution_count": 49,
   "metadata": {},
   "outputs": [
    {
     "data": {
      "text/plain": [
       "87"
      ]
     },
     "execution_count": 49,
     "metadata": {},
     "output_type": "execute_result"
    }
   ],
   "source": [
    "lst=[2,4,55,67,87,79,56,46]\n",
    "max(lst)"
   ]
  },
  {
   "cell_type": "markdown",
   "metadata": {},
   "source": [
    "17. Find the minimum value in a list."
   ]
  },
  {
   "cell_type": "code",
   "execution_count": 53,
   "metadata": {},
   "outputs": [
    {
     "data": {
      "text/plain": [
       "2"
      ]
     },
     "execution_count": 53,
     "metadata": {},
     "output_type": "execute_result"
    }
   ],
   "source": [
    "lst=[2,4,55,67,87,79,56,46]\n",
    "min(lst)"
   ]
  },
  {
   "cell_type": "markdown",
   "metadata": {},
   "source": [
    "18. Create a list of squares of numbers from 1 to 10."
   ]
  },
  {
   "cell_type": "code",
   "execution_count": 56,
   "metadata": {},
   "outputs": [
    {
     "name": "stdout",
     "output_type": "stream",
     "text": [
      "[1, 4, 9, 16, 25, 36, 49, 64, 81, 100]\n"
     ]
    }
   ],
   "source": [
    "lst=[]\n",
    "for i in range(1,10+1):\n",
    "    lst.append(i*i)\n",
    "print(lst)"
   ]
  },
  {
   "cell_type": "markdown",
   "metadata": {},
   "source": [
    "19. Create a list of random numbers."
   ]
  },
  {
   "cell_type": "code",
   "execution_count": 13,
   "metadata": {},
   "outputs": [
    {
     "name": "stdout",
     "output_type": "stream",
     "text": [
      "[20, 24, 16, 28, 23, 29, 22, 5, 10, 9]\n"
     ]
    }
   ],
   "source": [
    "import random\n",
    "rand_list = []\n",
    "n =10\n",
    "for i in range(n):\n",
    "    rand_list .append(random.randint(1,30))\n",
    "print(rand_list)    "
   ]
  },
  {
   "cell_type": "markdown",
   "metadata": {},
   "source": [
    "20. Remove duplicates from a list."
   ]
  },
  {
   "cell_type": "code",
   "execution_count": 63,
   "metadata": {},
   "outputs": [
    {
     "name": "stdout",
     "output_type": "stream",
     "text": [
      "original list is : [2, 4, 5, 2, 5, 7, 8, 4, 7, 9, 2, 4]\n",
      "list after removing duplicates : [2, 4, 5, 7, 8, 9]\n"
     ]
    }
   ],
   "source": [
    "test_list = [2,4,5,2,5,7,8,4,7,9,2,4]\n",
    "print(\"original list is :\",test_list)\n",
    "res=[]\n",
    "[res.append(x) for x in test_list if x not in res]\n",
    "print(\"list after removing duplicates :\",res)"
   ]
  },
  {
   "cell_type": "markdown",
   "metadata": {},
   "source": [
    "21. Find the common elements between two lists."
   ]
  },
  {
   "cell_type": "code",
   "execution_count": 15,
   "metadata": {},
   "outputs": [
    {
     "name": "stdout",
     "output_type": "stream",
     "text": [
      "{5}\n"
     ]
    }
   ],
   "source": [
    "def common_member(a, b):\n",
    "    a_set = set(a)\n",
    "    b_set = set(b)\n",
    "\n",
    "    if (a_set & b_set):\n",
    "        print(a_set & b_set)\n",
    "    else:\n",
    "        print(\"No common elements\")\n",
    "a = [1, 2, 3, 4, 5]\n",
    "b = [5, 6, 7, 8, 9]\n",
    "common_member(a, b)"
   ]
  },
  {
   "cell_type": "markdown",
   "metadata": {},
   "source": [
    "22. Find the difference between two lists."
   ]
  },
  {
   "cell_type": "code",
   "execution_count": 27,
   "metadata": {},
   "outputs": [
    {
     "name": "stdout",
     "output_type": "stream",
     "text": [
      "[1, 2, 3, 4, 5]\n"
     ]
    }
   ],
   "source": [
    "list_a = [1,2,3,4,5]\n",
    "list_b = [6,7,8,9,10]\n",
    "difference = list(set(list_a) -set(list_b))\n",
    "print(difference)"
   ]
  },
  {
   "cell_type": "markdown",
   "metadata": {},
   "source": [
    "23. Merge two lists."
   ]
  },
  {
   "cell_type": "code",
   "execution_count": 28,
   "metadata": {},
   "outputs": [
    {
     "name": "stdout",
     "output_type": "stream",
     "text": [
      "Concatenated list using naive method :  [1, 4, 5, 6, 5, 3, 5, 7, 2, 5]\n"
     ]
    }
   ],
   "source": [
    "test_list1 = [1, 4, 5, 6, 5]\n",
    "test_list2 = [3, 5, 7, 2, 5]\n",
    "for i in test_list2 :\n",
    "    test_list1.append(i)\n",
    "print (\"Concatenated list using naive method : \",(test_list1))"
   ]
  },
  {
   "cell_type": "markdown",
   "metadata": {},
   "source": [
    "24. Multiply all elements in a list by 2."
   ]
  },
  {
   "cell_type": "code",
   "execution_count": 45,
   "metadata": {},
   "outputs": [
    {
     "name": "stdout",
     "output_type": "stream",
     "text": [
      "[4, 8, 10, 12, 14, 16]\n"
     ]
    }
   ],
   "source": [
    "lst = [2,4,5,6,7,8]\n",
    "multiply_lst =[x*2 for x in lst]\n",
    "print(multiply_lst)"
   ]
  },
  {
   "cell_type": "markdown",
   "metadata": {},
   "source": [
    "25. Filter out all even numbers from a list."
   ]
  },
  {
   "cell_type": "code",
   "execution_count": 50,
   "metadata": {},
   "outputs": [
    {
     "name": "stdout",
     "output_type": "stream",
     "text": [
      "2\n",
      "4\n",
      "54\n",
      "32\n",
      "56\n",
      "76\n",
      "332\n"
     ]
    }
   ],
   "source": [
    "lst =[2,4,67,87,54,32,56,677,87,43,76,79,65,332]\n",
    "for x in lst:\n",
    "    if x %2==0:\n",
    "        print(x)"
   ]
  },
  {
   "cell_type": "markdown",
   "metadata": {},
   "source": [
    "26. Convert a list of strings to a list of integers."
   ]
  },
  {
   "cell_type": "code",
   "execution_count": 57,
   "metadata": {},
   "outputs": [
    {
     "name": "stdout",
     "output_type": "stream",
     "text": [
      "List of integers: [10, 20, 30, 40, 50]\n"
     ]
    }
   ],
   "source": [
    "string_list = [\"10\", \"20\", \"30\", \"40\", \"50\"]\n",
    "integer_list = [int(x) for x in string_list]\n",
    "\n",
    "print(\"List of integers:\", integer_list)"
   ]
  },
  {
   "cell_type": "markdown",
   "metadata": {},
   "source": [
    "27. Convert a list of integers to a list of strings."
   ]
  },
  {
   "cell_type": "code",
   "execution_count": 58,
   "metadata": {},
   "outputs": [
    {
     "name": "stdout",
     "output_type": "stream",
     "text": [
      "['20', '35', '34', '56', '78']\n"
     ]
    }
   ],
   "source": [
    "int_list =[20,35,34,56,78]\n",
    "str_list =[str(x)for x in int_list]\n",
    "print(str_list)"
   ]
  },
  {
   "cell_type": "markdown",
   "metadata": {},
   "source": [
    "28. Flatten a nested list."
   ]
  },
  {
   "cell_type": "code",
   "execution_count": 60,
   "metadata": {},
   "outputs": [
    {
     "name": "stdout",
     "output_type": "stream",
     "text": [
      "[1, 2, 3, 4, 5, 6, 7]\n"
     ]
    }
   ],
   "source": [
    "my_list = [[1], [2, 3], [4, 5, 6, 7]]\n",
    "\n",
    "flat_list = [num for sublist in my_list for num in sublist]\n",
    "print(flat_list)"
   ]
  },
  {
   "cell_type": "markdown",
   "metadata": {},
   "source": [
    "29. Create a list of the first 10 Fibonacci numbers."
   ]
  },
  {
   "cell_type": "code",
   "execution_count": 20,
   "metadata": {},
   "outputs": [
    {
     "name": "stdout",
     "output_type": "stream",
     "text": [
      "[0, 1, 1, 2, 3, 5, 8, 13, 21, 34, 55]\n"
     ]
    }
   ],
   "source": [
    "def fibonacci_nums(n):\n",
    "    if n <= 0:\n",
    "        return [0]\n",
    "    sequence = [0, 1]\n",
    "    while len(sequence) <= n:\n",
    "        next_value = sequence[len(sequence) - 1] + sequence[len(sequence) - 2]\n",
    "        sequence.append(next_value)\n",
    "    return sequence\n",
    "print(fibonacci_nums(10))"
   ]
  },
  {
   "cell_type": "markdown",
   "metadata": {},
   "source": [
    "30. Check if a list is sorted."
   ]
  },
  {
   "cell_type": "code",
   "execution_count": 69,
   "metadata": {},
   "outputs": [
    {
     "name": "stdout",
     "output_type": "stream",
     "text": [
      "Original list : [1, 4, 5, 8, 10]\n",
      "Yes, List is sorted.\n"
     ]
    }
   ],
   "source": [
    "test_list = [1, 4, 5, 8, 10]\n",
    "print (\"Original list : \" + str(test_list))\n",
    "\n",
    "flag = 0\n",
    "i = 1\n",
    "while i < len(test_list):\n",
    "    if(test_list[i] < test_list[i - 1]):\n",
    "        flag = 1\n",
    "    i += 1\n",
    "if (not flag) :\n",
    "    print (\"Yes, List is sorted.\")\n",
    "else :\n",
    "    print (\"No, List is not sorted.\")\n"
   ]
  },
  {
   "cell_type": "markdown",
   "metadata": {},
   "source": [
    "31. Rotate a list to the left by n positions."
   ]
  },
  {
   "cell_type": "code",
   "execution_count": 75,
   "metadata": {},
   "outputs": [
    {
     "name": "stdout",
     "output_type": "stream",
     "text": [
      "Original list : [1, 4, 6, 7, 2]\n",
      "List after left rotate by 2 : [6, 7, 2, 1, 4]\n"
     ]
    }
   ],
   "source": [
    "test_list = [1, 4, 6, 7, 2]\n",
    "print (\"Original list : \" + str(test_list))\n",
    "test_list = test_list[2:] + test_list[:2]\n",
    "print (\"List after left rotate by 2 : \" + str(test_list))"
   ]
  },
  {
   "cell_type": "markdown",
   "metadata": {},
   "source": [
    "32. Rotate a list to the right by n positions."
   ]
  },
  {
   "cell_type": "code",
   "execution_count": 80,
   "metadata": {},
   "outputs": [
    {
     "name": "stdout",
     "output_type": "stream",
     "text": [
      "List after right rotate by 3 : [9, 1, 4, 7, 6, 3]\n"
     ]
    }
   ],
   "source": [
    "test_list = [7,6,3,9,1,4]\n",
    "test_list = test_list[-3:] + test_list[:-3]\n",
    "print (\"List after right rotate by 3 : \" + str(test_list))                                       "
   ]
  },
  {
   "cell_type": "markdown",
   "metadata": {},
   "source": [
    "33. Create a list of prime numbers up to 50."
   ]
  },
  {
   "cell_type": "code",
   "execution_count": 86,
   "metadata": {},
   "outputs": [
    {
     "name": "stdout",
     "output_type": "stream",
     "text": [
      "[2, 3, 5, 7, 11, 13, 17, 19, 23, 29, 31, 37, 41, 43, 47]\n"
     ]
    }
   ],
   "source": [
    "print([i for i in range(2, 50) if 0 not in [i%n for n in range(2, i)]])"
   ]
  },
  {
   "cell_type": "markdown",
   "metadata": {},
   "source": [
    "34. Split a list into chunks of size n."
   ]
  },
  {
   "cell_type": "code",
   "execution_count": null,
   "metadata": {},
   "outputs": [],
   "source": [
    "from itertools import islice\n",
    "def chunk(arr_range, arr_size):\n",
    "    arr_range = iter(arr_range)\n",
    "    return iter(lambda: tuple(islice(arr_range, arr_size)), ())\n",
    "list(chunk(range(30), 5))\n"
   ]
  },
  {
   "cell_type": "markdown",
   "metadata": {},
   "source": [
    "35. Find the second largest number in a list."
   ]
  },
  {
   "cell_type": "code",
   "execution_count": 90,
   "metadata": {},
   "outputs": [
    {
     "name": "stdout",
     "output_type": "stream",
     "text": [
      "The second largest element of the list is: 30\n"
     ]
    }
   ],
   "source": [
    "lst = [20, 30, 40, 25, 10]  \n",
    "lst.sort()  \n",
    "print(\"The second largest element of the list is:\", lst[-2])  "
   ]
  },
  {
   "cell_type": "markdown",
   "metadata": {},
   "source": [
    "37. Convert a list to a dictionary where list elements become keys and their indices become values."
   ]
  },
  {
   "cell_type": "code",
   "execution_count": 92,
   "metadata": {},
   "outputs": [
    {
     "name": "stdout",
     "output_type": "stream",
     "text": [
      "{0: 'Ramesh', 1: 'Mahesh', 2: 'Kamlesh', 3: 'Suresh'}\n"
     ]
    }
   ],
   "source": [
    "student_list = ['Ramesh', 'Mahesh', 'Kamlesh', 'Suresh'] \n",
    "names_dict = {}\n",
    "for i, name in enumerate(student_list):\n",
    "    names_dict[i] = name\n",
    "print(names_dict)\n",
    "\n"
   ]
  },
  {
   "cell_type": "markdown",
   "metadata": {},
   "source": [
    "38. Shuffle the elements of a list randomly."
   ]
  },
  {
   "cell_type": "code",
   "execution_count": 93,
   "metadata": {},
   "outputs": [
    {
     "name": "stdout",
     "output_type": "stream",
     "text": [
      "[0, 1, 3, 2, 4]\n"
     ]
    }
   ],
   "source": [
    "import random\n",
    "l = [0, 1, 2, 3, 4]\n",
    "random.shuffle(l)\n",
    "print(l)"
   ]
  },
  {
   "cell_type": "markdown",
   "metadata": {},
   "source": [
    "39. Create a list of the first 10 factorial numbers."
   ]
  },
  {
   "cell_type": "code",
   "execution_count": 100,
   "metadata": {},
   "outputs": [
    {
     "name": "stdout",
     "output_type": "stream",
     "text": [
      "List of the first 10 factorial numbers: [1, 1, 2, 6, 24, 120, 720, 5040, 40320, 362880]\n"
     ]
    }
   ],
   "source": [
    "def factorial(n):\n",
    "    if n == 0 or n == 1:\n",
    "        return 1\n",
    "    else:\n",
    "        return n * factorial(n - 1)\n",
    "factorial_numbers = [factorial(i) for i in range(10)]\n",
    "print(\"List of the first 10 factorial numbers:\", factorial_numbers)"
   ]
  },
  {
   "cell_type": "markdown",
   "metadata": {},
   "source": [
    "40. Check if two lists have at least one element in common."
   ]
  },
  {
   "cell_type": "code",
   "execution_count": 101,
   "metadata": {},
   "outputs": [
    {
     "name": "stdout",
     "output_type": "stream",
     "text": [
      "True\n",
      "False\n"
     ]
    }
   ],
   "source": [
    "def common_data(list1, list2):\n",
    "    result = False\n",
    "    for x in list1:\n",
    "        for y in list2:\n",
    "            if x == y:\n",
    "                result = True\n",
    "                return result\n",
    "    return result\n",
    "a = [1, 2, 3, 4, 5]\n",
    "b = [5, 6, 7, 8, 9]\n",
    "print(common_data(a, b))\n",
    "\n",
    "a = [1, 2, 3, 4, 5]\n",
    "b = [6, 7, 8, 9]\n",
    "print(common_data(a, b))\n"
   ]
  },
  {
   "cell_type": "markdown",
   "metadata": {},
   "source": [
    "41. Remove all elements from a list."
   ]
  },
  {
   "cell_type": "code",
   "execution_count": 104,
   "metadata": {},
   "outputs": [
    {
     "name": "stdout",
     "output_type": "stream",
     "text": [
      "empty list []\n"
     ]
    }
   ],
   "source": [
    "lst =[ 1,2,3,4,5,6,7,8,99]\n",
    "lst.clear()\n",
    "print(\"empty list\" ,lst)"
   ]
  },
  {
   "cell_type": "markdown",
   "metadata": {},
   "source": [
    "42. Replace negative numbers in a list with 0."
   ]
  },
  {
   "cell_type": "code",
   "execution_count": 106,
   "metadata": {},
   "outputs": [
    {
     "name": "stdout",
     "output_type": "stream",
     "text": [
      "[1, 0, 3, 0, 5, 0, 7, 0, 0]\n"
     ]
    }
   ],
   "source": [
    "lst =[ 1,-2,3,-4,5,-6,7,-8,-99]\n",
    "print([0 if i < 0 else i for i in lst])\n"
   ]
  },
  {
   "cell_type": "markdown",
   "metadata": {},
   "source": [
    "43. Convert a string into a list of words."
   ]
  },
  {
   "cell_type": "code",
   "execution_count": 109,
   "metadata": {},
   "outputs": [
    {
     "name": "stdout",
     "output_type": "stream",
     "text": [
      "['i', 'am', 'rabia', 'naz']\n"
     ]
    }
   ],
   "source": [
    "string1 = \"i am rabia naz\"\n",
    "word_list = string1.split()\n",
    "print(word_list)"
   ]
  },
  {
   "cell_type": "markdown",
   "metadata": {},
   "source": [
    "44. Convert a list of words into a string."
   ]
  },
  {
   "cell_type": "code",
   "execution_count": 110,
   "metadata": {},
   "outputs": [
    {
     "name": "stdout",
     "output_type": "stream",
     "text": [
      "i am rabia naz\n"
     ]
    }
   ],
   "source": [
    "word_list = ['i', 'am', 'rabia', 'naz']\n",
    "my_string =  \" \".join(word_list)\n",
    "print(my_string)"
   ]
  },
  {
   "cell_type": "markdown",
   "metadata": {},
   "source": [
    "45. Create a list of the first n powers of 2."
   ]
  },
  {
   "cell_type": "code",
   "execution_count": 118,
   "metadata": {},
   "outputs": [
    {
     "name": "stdout",
     "output_type": "stream",
     "text": [
      "List of the first 10 powers of 2: [1, 2, 4, 8, 16, 32, 64, 128, 256, 512]\n"
     ]
    }
   ],
   "source": [
    "n = 10\n",
    "power_list = [2 ** i for i in range(n)]\n",
    "\n",
    "print(\"List of the first\", n, \"powers of 2:\", power_list)"
   ]
  },
  {
   "cell_type": "markdown",
   "metadata": {},
   "source": [
    "46. Find the longest string in a list of strings."
   ]
  },
  {
   "cell_type": "code",
   "execution_count": 124,
   "metadata": {},
   "outputs": [
    {
     "name": "stdout",
     "output_type": "stream",
     "text": [
      "The original list :  ['pwskills', 'ineuron', 'datascience', 'java']\n",
      "Maximum length string is : datascience\n"
     ]
    }
   ],
   "source": [
    "test_list = ['pwskills','ineuron','datascience','java']\n",
    "\n",
    "print(\"The original list : \",(test_list))\n",
    "\n",
    "x = max(test_list, key = len)\n",
    "\n",
    "print(\"Maximum length string is : \" + x)\n",
    "\n"
   ]
  },
  {
   "cell_type": "markdown",
   "metadata": {},
   "source": [
    "47. Find the shortest string in a list of strings."
   ]
  },
  {
   "cell_type": "code",
   "execution_count": 126,
   "metadata": {},
   "outputs": [
    {
     "name": "stdout",
     "output_type": "stream",
     "text": [
      "The original list :  ['pwskills', 'ineuron', 'datascience', 'java']\n",
      "Minimum length string is : java\n"
     ]
    }
   ],
   "source": [
    "test_list = ['pwskills','ineuron','datascience','java']\n",
    "\n",
    "print(\"The original list : \",(test_list))\n",
    "\n",
    "x = min(test_list, key = len)\n",
    "\n",
    "print(\"Minimum length string is : \" + x)\n"
   ]
  },
  {
   "cell_type": "markdown",
   "metadata": {},
   "source": [
    "48. Create a list of the first n triangular numbers."
   ]
  },
  {
   "cell_type": "code",
   "execution_count": 127,
   "metadata": {},
   "outputs": [
    {
     "name": "stdout",
     "output_type": "stream",
     "text": [
      "1 3 6 10 15 "
     ]
    }
   ],
   "source": [
    "def triangular_series(n):\n",
    "    for i in range(1, n + 1):\n",
    "        print( i*(i+1)//2,end=' ')\n",
    "n = 5\n",
    "triangular_series(n)"
   ]
  },
  {
   "cell_type": "markdown",
   "metadata": {},
   "source": [
    "49. Check if a list contains another list as a subsequence."
   ]
  },
  {
   "cell_type": "code",
   "execution_count": 128,
   "metadata": {},
   "outputs": [
    {
     "name": "stdout",
     "output_type": "stream",
     "text": [
      "True\n"
     ]
    }
   ],
   "source": [
    "def check_exists(l, lookup_list):\n",
    "    check = True\n",
    "    for i in lookup_list:\n",
    "        try:\n",
    "            index = l.index(i) \n",
    "            l = l[index+1:]\n",
    "        except ValueError:\n",
    "            check = False \n",
    "            break \n",
    "    return check\n",
    "l = [1, 2, 4, 3, 5, 7, 5, 3, 8, 3, 8, 5, 8, 5, 9, 5, 7, 5, 7, 4, 9, 7, 5, 7, \n",
    "4, 7, 4, 7, 8, 9, 7, 5, 7, 5, 4, 9, 3, 4, 8, 4, 8, 5, 3, 5, 4, 7, 3, 7, 3, 1, \n",
    "2, 7, 1, 7, 2, 1]\n",
    "lookup_list = [2,3,4,5,7,8,9,5,4,3,2,1] \n",
    "print(check_exists(l,lookup_list))"
   ]
  },
  {
   "cell_type": "markdown",
   "metadata": {},
   "source": [
    "50. Swap two elements in a list by their indices."
   ]
  },
  {
   "cell_type": "code",
   "execution_count": 130,
   "metadata": {},
   "outputs": [
    {
     "name": "stdout",
     "output_type": "stream",
     "text": [
      "\n",
      "List of fruits after swap:\n",
      "['bananas', 'grapes', 'oranges']\n"
     ]
    }
   ],
   "source": [
    "fruits = [\"oranges\", \"grapes\", \"bananas\"]\n",
    "fruits[0], fruits[2] = fruits[2], fruits[0]\n",
    "print(\"\\nList of fruits after swap:\")\n",
    "print(fruits)"
   ]
  },
  {
   "cell_type": "markdown",
   "metadata": {},
   "source": [
    "# Tuple based practice problem :"
   ]
  },
  {
   "cell_type": "markdown",
   "metadata": {},
   "source": [
    "1. Create a tuple with integers from 1 to 5."
   ]
  },
  {
   "cell_type": "code",
   "execution_count": 134,
   "metadata": {},
   "outputs": [
    {
     "name": "stdout",
     "output_type": "stream",
     "text": [
      "(1, 2, 3, 4, 5)\n"
     ]
    }
   ],
   "source": [
    "print(tuple(range(1, 6))) "
   ]
  },
  {
   "cell_type": "markdown",
   "metadata": {},
   "source": [
    "2. Access the third element of a tuple."
   ]
  },
  {
   "cell_type": "code",
   "execution_count": 136,
   "metadata": {},
   "outputs": [
    {
     "name": "stdout",
     "output_type": "stream",
     "text": [
      "third element is: 7\n"
     ]
    }
   ],
   "source": [
    "my_tuple = (1,9,7,6,5,4)\n",
    "third_element =my_tuple[2]\n",
    "print(\"third element is:\" ,third_element)"
   ]
  },
  {
   "cell_type": "markdown",
   "metadata": {},
   "source": [
    "3. Find the length of a tuple without using the len() function."
   ]
  },
  {
   "cell_type": "code",
   "execution_count": 140,
   "metadata": {},
   "outputs": [
    {
     "name": "stdout",
     "output_type": "stream",
     "text": [
      "length of tuple is: 6\n"
     ]
    }
   ],
   "source": [
    "my_tuple = (1,9,7,6,5,4)\n",
    "count = 0\n",
    "for i in my_tuple:\n",
    "    count+=1\n",
    "print(\"length of tuple is:\" ,count)"
   ]
  },
  {
   "cell_type": "markdown",
   "metadata": {},
   "source": [
    "4. Count the occurrences of an element in a tuple."
   ]
  },
  {
   "cell_type": "code",
   "execution_count": 146,
   "metadata": {},
   "outputs": [
    {
     "name": "stdout",
     "output_type": "stream",
     "text": [
      "occurence of element '5': 6\n"
     ]
    }
   ],
   "source": [
    "my_tuple =(1, 2, 4, 3, 5, 7, 5, 3, 8, 3, 8, 5, 8, 5, 9, 5, 7, 5, 7, 4, 2, 7, 1, 7, 2, 1)\n",
    "element_count = 5\n",
    "count = 0\n",
    "for i in my_tuple:\n",
    "    if i == element_count:\n",
    "        count+=1\n",
    "print(\"occurence of element '5':\" ,count)"
   ]
  },
  {
   "cell_type": "markdown",
   "metadata": {},
   "source": [
    "5. Find the index of the first occurrence of an element in a tuple."
   ]
  },
  {
   "cell_type": "code",
   "execution_count": 153,
   "metadata": {},
   "outputs": [
    {
     "name": "stdout",
     "output_type": "stream",
     "text": [
      "index of ineuron is : 1\n"
     ]
    }
   ],
   "source": [
    "my_tuple = (\"pwskills\",\"ineuron\",\"datascience\",\"javascript\")\n",
    "index = my_tuple.index('ineuron')\n",
    "print(\"index of ineuron is :\", index)"
   ]
  },
  {
   "cell_type": "markdown",
   "metadata": {},
   "source": [
    "6. Check if an element exists in a tuple."
   ]
  },
  {
   "cell_type": "code",
   "execution_count": 165,
   "metadata": {},
   "outputs": [
    {
     "name": "stdout",
     "output_type": "stream",
     "text": [
      "element_test exists in the tuple.\n"
     ]
    }
   ],
   "source": [
    "my_tuple = (\"pwskills\",\"ineuron\",\"datascience\",\"javascript\")\n",
    "element_test = 'datascience'\n",
    "if element_test in my_tuple:\n",
    "    print(\"element_test exists in the tuple.\")\n",
    "else:\n",
    "    print( \"element_test does not exist in the tuple.\")"
   ]
  },
  {
   "cell_type": "markdown",
   "metadata": {},
   "source": [
    "7. Convert a tuple to a list."
   ]
  },
  {
   "cell_type": "code",
   "execution_count": 169,
   "metadata": {},
   "outputs": [
    {
     "name": "stdout",
     "output_type": "stream",
     "text": [
      "['pwskills', 'ineuron', 'datascience', 'javascript']\n"
     ]
    }
   ],
   "source": [
    "my_tuple = (\"pwskills\",\"ineuron\",\"datascience\",\"javascript\")\n",
    "my_list = list(my_tuple)\n",
    "print(my_list)"
   ]
  },
  {
   "cell_type": "markdown",
   "metadata": {},
   "source": [
    "8. Convert a list to a tuple."
   ]
  },
  {
   "cell_type": "code",
   "execution_count": 171,
   "metadata": {},
   "outputs": [
    {
     "name": "stdout",
     "output_type": "stream",
     "text": [
      "list : ['pwskills', 'ineuron', 'datascience', 'javascript']\n",
      "tuple : ('pwskills', 'ineuron', 'datascience', 'javascript')\n"
     ]
    }
   ],
   "source": [
    "my_list = ['pwskills', 'ineuron', 'datascience', 'javascript']\n",
    "my_tuple = tuple(my_list)\n",
    "print (\"list :\",my_list)\n",
    "print(\"tuple :\",my_tuple)"
   ]
  },
  {
   "cell_type": "markdown",
   "metadata": {},
   "source": [
    "9. Unpack the elements of a tuple into variables."
   ]
  },
  {
   "cell_type": "code",
   "execution_count": 172,
   "metadata": {},
   "outputs": [
    {
     "name": "stdout",
     "output_type": "stream",
     "text": [
      "var1 = pwskills\n",
      "var2 = ineuron\n",
      "var3 = datascience\n",
      "var4 = javascript\n"
     ]
    }
   ],
   "source": [
    "my_tuple = (\"pwskills\",\"ineuron\",\"datascience\",\"javascript\")\n",
    "var1 , var2 , var3 , var4 = my_tuple\n",
    "print(\"var1 =\" ,var1)\n",
    "print(\"var2 =\" ,var2)\n",
    "print(\"var3 =\" ,var3)\n",
    "print(\"var4 =\" ,var4)"
   ]
  },
  {
   "cell_type": "markdown",
   "metadata": {},
   "source": [
    "10. Create a tuple of even numbers from 1 to 10."
   ]
  },
  {
   "cell_type": "code",
   "execution_count": 9,
   "metadata": {},
   "outputs": [
    {
     "name": "stdout",
     "output_type": "stream",
     "text": [
      "(2, 4, 6, 8, 10)\n"
     ]
    }
   ],
   "source": [
    "my_tuple = range (1,11)\n",
    "res = [i for i in my_tuple if i %2==0]\n",
    "my_tup = tuple(res)\n",
    "print(my_tup)"
   ]
  },
  {
   "cell_type": "markdown",
   "metadata": {},
   "source": [
    "11. Create a tuple of odd numbers from 1 to 10."
   ]
  },
  {
   "cell_type": "code",
   "execution_count": 17,
   "metadata": {},
   "outputs": [
    {
     "name": "stdout",
     "output_type": "stream",
     "text": [
      "(1, 3, 5, 7, 9)\n"
     ]
    }
   ],
   "source": [
    "my_tuple = range (1,10)\n",
    "res = [i for i in my_tuple if i %2!=0]\n",
    "my_tup = tuple(res)\n",
    "print(my_tup)"
   ]
  },
  {
   "cell_type": "markdown",
   "metadata": {},
   "source": [
    "12. Concatenate two tuples."
   ]
  },
  {
   "cell_type": "code",
   "execution_count": 18,
   "metadata": {},
   "outputs": [
    {
     "name": "stdout",
     "output_type": "stream",
     "text": [
      "(1, 2, 3, 4, 5, 6, 7, 8)\n"
     ]
    }
   ],
   "source": [
    "tuple_1 =(1,2,3,4)\n",
    "tuple_2 =(5,6,7,8)\n",
    "concatenated_tuple =tuple_1 +tuple_2\n",
    "print(concatenated_tuple)"
   ]
  },
  {
   "cell_type": "markdown",
   "metadata": {},
   "source": [
    "13. Repeat a tuple three times."
   ]
  },
  {
   "cell_type": "code",
   "execution_count": 19,
   "metadata": {},
   "outputs": [
    {
     "name": "stdout",
     "output_type": "stream",
     "text": [
      "(1, 2, 3, 4, 5, 6, 7, 8, 1, 2, 3, 4, 5, 6, 7, 8, 1, 2, 3, 4, 5, 6, 7, 8)\n"
     ]
    }
   ],
   "source": [
    "my_tuple =(1, 2, 3, 4, 5, 6, 7, 8)\n",
    "repeated_tuple = my_tuple*3\n",
    "print(repeated_tuple)"
   ]
  },
  {
   "cell_type": "code",
   "execution_count": null,
   "metadata": {},
   "outputs": [],
   "source": []
  },
  {
   "cell_type": "markdown",
   "metadata": {},
   "source": [
    "14. Check if a tuple is empty."
   ]
  },
  {
   "cell_type": "code",
   "execution_count": 24,
   "metadata": {},
   "outputs": [
    {
     "name": "stdout",
     "output_type": "stream",
     "text": [
      "tuple_1 is empty\n",
      "tuple_2 is not empty\n"
     ]
    }
   ],
   "source": [
    "tuple_1=()\n",
    "tuple_2 =(1,2,3,4,)\n",
    "if not tuple_1:\n",
    "    print(\"tuple_1 is empty\")\n",
    "else:\n",
    "    print(\"tuple_1 is not empty\")\n",
    "if not tuple_2:\n",
    "    print(\"tuple_2 is empty\")\n",
    "else:\n",
    "     print(\"tuple_2 is not empty\")"
   ]
  },
  {
   "cell_type": "markdown",
   "metadata": {},
   "source": [
    "15. Create a nested tuple."
   ]
  },
  {
   "cell_type": "code",
   "execution_count": 31,
   "metadata": {},
   "outputs": [
    {
     "name": "stdout",
     "output_type": "stream",
     "text": [
      "Nested tuple: ((1, 2, 3), ('a', 'b', 'c'), (True, False))\n"
     ]
    }
   ],
   "source": [
    "nested_tuple = ((1, 2, 3), ('a', 'b', 'c'), (True, False))\n",
    "print(\"Nested tuple:\", nested_tuple)"
   ]
  },
  {
   "cell_type": "markdown",
   "metadata": {},
   "source": [
    " Access the first element of a nested tuple."
   ]
  },
  {
   "cell_type": "code",
   "execution_count": 32,
   "metadata": {},
   "outputs": [
    {
     "name": "stdout",
     "output_type": "stream",
     "text": [
      "(100, 200, 300)\n"
     ]
    }
   ],
   "source": [
    "nested_tuple = ((100, 200, 300), ('apple', 'ball', 'cat'), (True, False))\n",
    "first_element = nested_tuple[0]\n",
    "print(first_element)"
   ]
  },
  {
   "cell_type": "markdown",
   "metadata": {},
   "source": [
    "17. Create a tuple with a single element."
   ]
  },
  {
   "cell_type": "code",
   "execution_count": 33,
   "metadata": {},
   "outputs": [
    {
     "name": "stdout",
     "output_type": "stream",
     "text": [
      "tuple with a single element : (100,)\n"
     ]
    }
   ],
   "source": [
    "single_element= (100,)\n",
    "print(\"tuple with a single element :\",single_element)\n"
   ]
  },
  {
   "cell_type": "markdown",
   "metadata": {},
   "source": [
    "18. Compare two tuples."
   ]
  },
  {
   "cell_type": "code",
   "execution_count": 35,
   "metadata": {},
   "outputs": [
    {
     "name": "stdout",
     "output_type": "stream",
     "text": [
      "tuple1 == tuple2: False\n",
      "tuple1 != tuple2: True\n",
      "tuple1 < tuple2: True\n",
      "tuple1 <= tuple2: True\n",
      "tuple1 > tuple2: False\n",
      "tuple1 >= tuple2: False\n"
     ]
    }
   ],
   "source": [
    "tuple1 = (1, 2, 3)\n",
    "tuple2 = (1, 2, 4)\n",
    "\n",
    "print(\"tuple1 == tuple2:\", tuple1 == tuple2)  \n",
    "print(\"tuple1 != tuple2:\", tuple1 != tuple2)  \n",
    "print(\"tuple1 < tuple2:\", tuple1 < tuple2)    \n",
    "print(\"tuple1 <= tuple2:\", tuple1 <= tuple2)\n",
    "print(\"tuple1 > tuple2:\", tuple1 > tuple2)    \n",
    "print(\"tuple1 >= tuple2:\", tuple1 >= tuple2)  "
   ]
  },
  {
   "cell_type": "markdown",
   "metadata": {},
   "source": [
    "19. Delete a tuple."
   ]
  },
  {
   "cell_type": "code",
   "execution_count": 61,
   "metadata": {},
   "outputs": [
    {
     "ename": "NameError",
     "evalue": "name 'my_tuple' is not defined",
     "output_type": "error",
     "traceback": [
      "\u001b[1;31m---------------------------------------------------------------------------\u001b[0m",
      "\u001b[1;31mNameError\u001b[0m                                 Traceback (most recent call last)",
      "\u001b[1;32m<ipython-input-61-109d32843406>\u001b[0m in \u001b[0;36m<module>\u001b[1;34m\u001b[0m\n\u001b[0;32m      1\u001b[0m \u001b[0mmy_tuple\u001b[0m \u001b[1;33m=\u001b[0m\u001b[1;33m(\u001b[0m\u001b[1;36m1\u001b[0m\u001b[1;33m,\u001b[0m\u001b[1;36m2\u001b[0m\u001b[1;33m,\u001b[0m\u001b[1;36m3\u001b[0m\u001b[1;33m,\u001b[0m\u001b[1;36m4\u001b[0m\u001b[1;33m)\u001b[0m\u001b[1;33m\u001b[0m\u001b[1;33m\u001b[0m\u001b[0m\n\u001b[0;32m      2\u001b[0m \u001b[1;32mdel\u001b[0m \u001b[0mmy_tuple\u001b[0m\u001b[1;33m\u001b[0m\u001b[1;33m\u001b[0m\u001b[0m\n\u001b[1;32m----> 3\u001b[1;33m \u001b[0mprint\u001b[0m\u001b[1;33m(\u001b[0m\u001b[0mmy_tuple\u001b[0m\u001b[1;33m)\u001b[0m\u001b[1;33m\u001b[0m\u001b[1;33m\u001b[0m\u001b[0m\n\u001b[0m",
      "\u001b[1;31mNameError\u001b[0m: name 'my_tuple' is not defined"
     ]
    }
   ],
   "source": [
    "my_tuple =(1,2,3,4)\n",
    "del my_tuple\n",
    "print(my_tuple)"
   ]
  },
  {
   "cell_type": "markdown",
   "metadata": {},
   "source": [
    "20. Slice a tuple."
   ]
  },
  {
   "cell_type": "code",
   "execution_count": 50,
   "metadata": {},
   "outputs": [
    {
     "name": "stdout",
     "output_type": "stream",
     "text": [
      "(2, 3, 4)\n"
     ]
    }
   ],
   "source": [
    "my_tuple = (1, 2, 3, 4, 5, 6, 7, 8)\n",
    "slice_tuple = my_tuple[1:4]\n",
    "print(slice_tuple)"
   ]
  },
  {
   "cell_type": "markdown",
   "metadata": {},
   "source": [
    "21. Find the maximum value in a tuple."
   ]
  },
  {
   "cell_type": "code",
   "execution_count": 62,
   "metadata": {},
   "outputs": [
    {
     "name": "stdout",
     "output_type": "stream",
     "text": [
      "maximum value is: 88\n"
     ]
    }
   ],
   "source": [
    "my_tuple = (76, 25, 37, 43, 52, 86, 67, 88)\n",
    "maximum_value = max (my_tuple)\n",
    "print(\"maximum value is:\",maximum_value)"
   ]
  },
  {
   "cell_type": "markdown",
   "metadata": {},
   "source": [
    "22. Find the minimum value in a tuple."
   ]
  },
  {
   "cell_type": "code",
   "execution_count": 63,
   "metadata": {},
   "outputs": [
    {
     "name": "stdout",
     "output_type": "stream",
     "text": [
      "minimum value is: 25\n"
     ]
    }
   ],
   "source": [
    "my_tuple = (76, 25, 37, 43, 52, 86, 67, 88)\n",
    "minimum_value = min (my_tuple)\n",
    "print(\"minimum value is:\",minimum_value)"
   ]
  },
  {
   "cell_type": "markdown",
   "metadata": {},
   "source": [
    "23. Convert a string to a tuple of characters."
   ]
  },
  {
   "cell_type": "code",
   "execution_count": 64,
   "metadata": {},
   "outputs": [
    {
     "name": "stdout",
     "output_type": "stream",
     "text": [
      "('h', 'e', 'l', 'l', 'o', ' ', 'i', ' ', 'a', 'm', ' ', 'R', 'a', 'b', 'i', 'a')\n"
     ]
    }
   ],
   "source": [
    "my_string = (\"hello i am Rabia\")\n",
    "my_tuple = tuple(my_string)\n",
    "print(my_tuple)"
   ]
  },
  {
   "cell_type": "markdown",
   "metadata": {},
   "source": [
    "24. Convert a tuple of characters to a string."
   ]
  },
  {
   "cell_type": "code",
   "execution_count": 66,
   "metadata": {},
   "outputs": [
    {
     "name": "stdout",
     "output_type": "stream",
     "text": [
      "hello i am Rabia\n"
     ]
    }
   ],
   "source": [
    "my_tuple_characters = ('h', 'e', 'l', 'l', 'o', ' ', 'i', ' ', 'a', 'm', ' ', 'R', 'a', 'b', 'i', 'a')\n",
    "my_string_characters = ''.join (my_tuple_characters)\n",
    "print(my_string_characters)"
   ]
  },
  {
   "cell_type": "markdown",
   "metadata": {},
   "source": [
    "25. Create a tuple from multiple data types."
   ]
  },
  {
   "cell_type": "code",
   "execution_count": 68,
   "metadata": {},
   "outputs": [
    {
     "name": "stdout",
     "output_type": "stream",
     "text": [
      "('hello', 1, 2, 'ineuron', True)\n"
     ]
    }
   ],
   "source": [
    "multi_tuple_character =('hello',1,2,'ineuron',True)\n",
    "print(multi_tuple_character)"
   ]
  },
  {
   "cell_type": "markdown",
   "metadata": {},
   "source": [
    "26. Check if two tuples are identical."
   ]
  },
  {
   "cell_type": "code",
   "execution_count": 72,
   "metadata": {},
   "outputs": [
    {
     "name": "stdout",
     "output_type": "stream",
     "text": [
      "tuple_1 and tuple_2 are identicals : False\n",
      "tuple_1 and tuple_3 are identicals : True\n",
      "tuple_2 and tuple_3 are identicals : False\n"
     ]
    }
   ],
   "source": [
    "tuple_1 = (1,2,3,4,5)\n",
    "tuple_2 = (5,4,3,2,1)\n",
    "tuple_3 = (1,2,3,4,5)\n",
    "if_identical_1 = tuple_1 == tuple_2\n",
    "if_identical_2 =tuple_1 == tuple_3\n",
    "if_identical_3 =tuple_2 == tuple_3\n",
    "print(\"tuple_1 and tuple_2 are identicals :\" ,if_identical_1)\n",
    "print(\"tuple_1 and tuple_3 are identicals :\" ,if_identical_2)\n",
    "print(\"tuple_2 and tuple_3 are identicals :\" ,if_identical_3)"
   ]
  },
  {
   "cell_type": "markdown",
   "metadata": {},
   "source": [
    "27. Sort the elements of a tuple."
   ]
  },
  {
   "cell_type": "code",
   "execution_count": 7,
   "metadata": {},
   "outputs": [
    {
     "name": "stdout",
     "output_type": "stream",
     "text": [
      "(25, 37, 43, 52, 67, 76, 86, 88)\n"
     ]
    }
   ],
   "source": [
    "my_tuple = (76, 25, 37, 43, 52, 86, 67, 88)\n",
    "sorted_element = tuple(sorted (my_tuple))\n",
    "print(sorted_element)"
   ]
  },
  {
   "cell_type": "markdown",
   "metadata": {},
   "source": [
    "28. Convert a tuple of integers to a tuple of strings."
   ]
  },
  {
   "cell_type": "code",
   "execution_count": 10,
   "metadata": {},
   "outputs": [
    {
     "name": "stdout",
     "output_type": "stream",
     "text": [
      "('76', '25', '37', '43', '52', '86', '67', '88')\n"
     ]
    }
   ],
   "source": [
    "my_integers_tuple = (76, 25, 37, 43, 52, 86, 67, 88)\n",
    "my_string_tuple = tuple(str(item) for item in my_integers_tuple)\n",
    "print(my_string_tuple)\n"
   ]
  },
  {
   "cell_type": "markdown",
   "metadata": {},
   "source": [
    "29. Convert a tuple of strings to a tuple of integers."
   ]
  },
  {
   "cell_type": "code",
   "execution_count": 11,
   "metadata": {},
   "outputs": [
    {
     "name": "stdout",
     "output_type": "stream",
     "text": [
      "(76, 25, 37, 43, 52, 86, 67, 88)\n"
     ]
    }
   ],
   "source": [
    "my_string_tuple = ('76', '25', '37', '43', '52', '86', '67', '88')\n",
    "my_integers_tuple = tuple(int(item) for item in my_string_tuple)\n",
    "print(my_integers_tuple)"
   ]
  },
  {
   "cell_type": "markdown",
   "metadata": {},
   "source": [
    "30. Merge two tuples."
   ]
  },
  {
   "cell_type": "code",
   "execution_count": 13,
   "metadata": {},
   "outputs": [
    {
     "name": "stdout",
     "output_type": "stream",
     "text": [
      "(1, 2, 3, 4, 7, 8, 9, 2)\n"
     ]
    }
   ],
   "source": [
    "tuple_1 =(1,2,3,4)\n",
    "tuple_2 =(7,8,9,2)\n",
    "merge_tuple = tuple_1+tuple_2\n",
    "print(merge_tuple)"
   ]
  },
  {
   "cell_type": "markdown",
   "metadata": {},
   "source": [
    "31. Flatten a nested tuple."
   ]
  },
  {
   "cell_type": "code",
   "execution_count": 17,
   "metadata": {},
   "outputs": [
    {
     "name": "stdout",
     "output_type": "stream",
     "text": [
      "The original tuple :  ((4, 5), ((4, 7), (8, 9), (10, 11)), ((9, 10), (3, 4)))\n",
      "The flattened tuple :  (4, 5, 4, 7, 8, 9, 10, 11, 9, 10, 3, 4)\n"
     ]
    }
   ],
   "source": [
    "def flatten_tuples(t):\n",
    "    for x in t:\n",
    "        if isinstance(x, tuple):\n",
    "            yield from flatten_tuples(x)\n",
    "        else:\n",
    "            yield x\n",
    "\n",
    "test_tuple = ((4, 5), ((4, 7), (8, 9), (10, 11)), (((9, 10), (3, 4))))\n",
    "\n",
    "print(\"The original tuple : \" ,test_tuple)\n",
    "\n",
    "res = tuple(flatten_tuples(test_tuple))\n",
    "\n",
    "print(\"The flattened tuple : \" ,res)\n"
   ]
  },
  {
   "cell_type": "markdown",
   "metadata": {},
   "source": [
    "32. Create a tuple of the first 5 prime numbers."
   ]
  },
  {
   "cell_type": "code",
   "execution_count": 18,
   "metadata": {},
   "outputs": [
    {
     "name": "stdout",
     "output_type": "stream",
     "text": [
      "Tuple of the first 5 prime numbers: (2, 3, 5, 7, 11)\n"
     ]
    }
   ],
   "source": [
    "def is_prime(num):\n",
    "    if num <= 1:\n",
    "        return False\n",
    "    for i in range(2, int(num ** 0.5) + 1):\n",
    "        if num % i == 0:\n",
    "            return False\n",
    "    return True\n",
    "prime_numbers_list = [num for num in range(2, 100) if is_prime(num)][:5]\n",
    "prime_numbers_tuple = tuple(prime_numbers_list)\n",
    "print(\"Tuple of the first 5 prime numbers:\", prime_numbers_tuple)"
   ]
  },
  {
   "cell_type": "markdown",
   "metadata": {},
   "source": [
    "33. Check if a tuple is a palindrome."
   ]
  },
  {
   "cell_type": "code",
   "execution_count": 22,
   "metadata": {},
   "outputs": [
    {
     "name": "stdout",
     "output_type": "stream",
     "text": [
      "palindrome_tuple is a palindrome: True\n",
      "non_palindrome_tuple is a palindrome: False\n"
     ]
    }
   ],
   "source": [
    "def palindrome(tup):\n",
    "        return tup == tup[::-1]\n",
    "\n",
    "palindrome_tuple = (1,2,3,2,1)\n",
    "non_palindrome_tuple = (1,2,3,1,2,3)\n",
    "\n",
    "palindrome_1 = palindrome(palindrome_tuple)\n",
    "palindrome_2 = palindrome(non_palindrome_tuple)\n",
    "\n",
    "print(\"palindrome_tuple is a palindrome:\", palindrome_1)\n",
    "print(\"non_palindrome_tuple is a palindrome:\", palindrome_2)"
   ]
  },
  {
   "cell_type": "markdown",
   "metadata": {},
   "source": [
    "34. Create a tuple of squares of numbers from 1 to 5."
   ]
  },
  {
   "cell_type": "code",
   "execution_count": 23,
   "metadata": {},
   "outputs": [
    {
     "name": "stdout",
     "output_type": "stream",
     "text": [
      "Tuple of squares: (1, 4, 9, 16, 25)\n"
     ]
    }
   ],
   "source": [
    "squares_tuple = tuple(x ** 2 for x in range(1, 6))\n",
    "\n",
    "print(\"Tuple of squares:\", squares_tuple)"
   ]
  },
  {
   "cell_type": "markdown",
   "metadata": {},
   "source": [
    "35. Filter out all even numbers from a tuple."
   ]
  },
  {
   "cell_type": "code",
   "execution_count": 25,
   "metadata": {},
   "outputs": [
    {
     "name": "stdout",
     "output_type": "stream",
     "text": [
      "Filtered tuple: (22, 52, 68, 84, 90, 102)\n"
     ]
    }
   ],
   "source": [
    "original_tuple = (13, 22, 33, 45, 52, 68, 79, 84, 90, 102)\n",
    "filtered_tuple = tuple(i for i in original_tuple if i % 2 == 0)\n",
    "print(\"Filtered tuple:\", filtered_tuple)"
   ]
  },
  {
   "cell_type": "markdown",
   "metadata": {},
   "source": [
    "36. Multiply all elements in a tuple by 2."
   ]
  },
  {
   "cell_type": "code",
   "execution_count": 28,
   "metadata": {},
   "outputs": [
    {
     "name": "stdout",
     "output_type": "stream",
     "text": [
      "(26, 44, 66, 90, 104, 136, 158, 168, 180, 20)\n"
     ]
    }
   ],
   "source": [
    "my_tuple = (13, 22, 33, 45, 52, 68, 79, 84, 90, 10)\n",
    "multiply_tuple = tuple(num*2 for num in my_tuple)\n",
    "print(multiply_tuple)"
   ]
  },
  {
   "cell_type": "markdown",
   "metadata": {},
   "source": [
    "37. Create a tuple of random numbers."
   ]
  },
  {
   "cell_type": "code",
   "execution_count": 9,
   "metadata": {},
   "outputs": [
    {
     "name": "stdout",
     "output_type": "stream",
     "text": [
      "Random tuple: (4, 5, 8, 7, 1)\n"
     ]
    }
   ],
   "source": [
    "import random\n",
    "random_tuple = tuple(random.randint(1, 10) for _ in range(5)) \n",
    "print(\"Random tuple:\", random_tuple)"
   ]
  },
  {
   "cell_type": "markdown",
   "metadata": {},
   "source": [
    "38. Check if a tuple is sorted."
   ]
  },
  {
   "cell_type": "code",
   "execution_count": 7,
   "metadata": {},
   "outputs": [
    {
     "name": "stdout",
     "output_type": "stream",
     "text": [
      "True\n"
     ]
    }
   ],
   "source": [
    "t = (1, 2, 3, 4, 5)\n",
    "print(t == tuple(sorted(t)))"
   ]
  },
  {
   "cell_type": "markdown",
   "metadata": {},
   "source": [
    "altrnate solution for Q38..."
   ]
  },
  {
   "cell_type": "code",
   "execution_count": 4,
   "metadata": {},
   "outputs": [
    {
     "name": "stdout",
     "output_type": "stream",
     "text": [
      "t1 is sorted\n",
      "t2 is not sorted\n"
     ]
    }
   ],
   "source": [
    "t1 = (1,2,3,4,5)\n",
    "t2 = (1,2,3,1,2,3)\n",
    "if t1 == tuple(sorted(t1)):\n",
    "    print(\"t1 is sorted \")\n",
    "else:\n",
    "    print(\"t1 is not sorted\")\n",
    "if t2 == tuple(sorted(t2)):\n",
    "    print(\"t2 is sorted\")\n",
    "else:\n",
    "    print(\"t2 is not sorted\")"
   ]
  },
  {
   "cell_type": "markdown",
   "metadata": {},
   "source": [
    "39. Rotate a tuple to the left by n positions."
   ]
  },
  {
   "cell_type": "code",
   "execution_count": 7,
   "metadata": {},
   "outputs": [
    {
     "name": "stdout",
     "output_type": "stream",
     "text": [
      "rotated tuple left by n position : (6, 7, 2, 1, 4)\n"
     ]
    }
   ],
   "source": [
    "tuple_test = (1, 4, 6, 7, 2)\n",
    "tuple_test = tuple_test[2:] + tuple_test[:2]\n",
    "print(\"rotated tuple left by n position :\",tuple_test)"
   ]
  },
  {
   "cell_type": "markdown",
   "metadata": {},
   "source": [
    "40. Rotate a tuple to the right by n positions."
   ]
  },
  {
   "cell_type": "code",
   "execution_count": 8,
   "metadata": {},
   "outputs": [
    {
     "name": "stdout",
     "output_type": "stream",
     "text": [
      "rotated tuple left by n position : (3, 5, 6, 2, 7, 8)\n"
     ]
    }
   ],
   "source": [
    "tuple_test = (3,5,6,2,7,8)\n",
    "tuple_test = tuple_test[:3] + tuple_test[3:]\n",
    "print(\"rotated tuple right by n position :\",tuple_test)"
   ]
  },
  {
   "cell_type": "markdown",
   "metadata": {},
   "source": [
    "41. Create a tuple of the first 5 Fibonacci numbers."
   ]
  },
  {
   "cell_type": "code",
   "execution_count": 1,
   "metadata": {},
   "outputs": [
    {
     "name": "stdout",
     "output_type": "stream",
     "text": [
      "(0, 1, 1, 2, 3)\n"
     ]
    }
   ],
   "source": [
    "def fabonacci_num(n):\n",
    "    fibonacci = [0, 1]  \n",
    "    while len(fibonacci) < n: \n",
    "        next_number = fibonacci[-1] + fibonacci[-2] \n",
    "        fibonacci.append(next_number)  \n",
    "    return tuple(fibonacci)  \n",
    "\n",
    "fibonacci_tuple = fabonacci_num(5)\n",
    "print(fibonacci_tuple)"
   ]
  },
  {
   "cell_type": "markdown",
   "metadata": {},
   "source": [
    "42. Create a tuple from user input."
   ]
  },
  {
   "cell_type": "code",
   "execution_count": 23,
   "metadata": {},
   "outputs": [
    {
     "name": "stdout",
     "output_type": "stream",
     "text": [
      "enter the tuplerabia naz\n",
      "('r', 'a', 'b', 'i', 'a', ' ', 'n', 'a', 'z')\n"
     ]
    }
   ],
   "source": [
    "my_tuple = tuple(input(\"enter the tuple\"))\n",
    "print(my_tuple)"
   ]
  },
  {
   "cell_type": "markdown",
   "metadata": {},
   "source": [
    "43. Swap two elements in a tuple."
   ]
  },
  {
   "cell_type": "code",
   "execution_count": 29,
   "metadata": {},
   "outputs": [
    {
     "name": "stdout",
     "output_type": "stream",
     "text": [
      "Swapped tuple: (2, 3, 9, 5, 4, 6, 7, 8, 4, 1)\n"
     ]
    }
   ],
   "source": [
    "my_tuple = (2,3,4,5,9,6,7,8,4,1)\n",
    "index1 = 2\n",
    "index2 = 4\n",
    "swapped_tuple = tuple(my_tuple[i] if i not in (index1, index2) else my_tuple[index2] if i == index1\n",
    "else my_tuple[index1] for i in range(len(my_tuple)))\n",
    "print(\"Swapped tuple:\", swapped_tuple)"
   ]
  },
  {
   "cell_type": "markdown",
   "metadata": {},
   "source": [
    "44. Reverse the elements of a tuple."
   ]
  },
  {
   "cell_type": "code",
   "execution_count": 32,
   "metadata": {},
   "outputs": [
    {
     "name": "stdout",
     "output_type": "stream",
     "text": [
      "(1, 4, 8, 7, 6, 9, 5, 4, 3, 2)\n"
     ]
    }
   ],
   "source": [
    "my_tuple = (2,3,4,5,9,6,7,8,4,1)\n",
    "reverse_tuple = my_tuple[::-1]\n",
    "print(reverse_tuple)"
   ]
  },
  {
   "cell_type": "markdown",
   "metadata": {},
   "source": [
    "45. Create a tuple of the first n powers of 2."
   ]
  },
  {
   "cell_type": "code",
   "execution_count": 34,
   "metadata": {},
   "outputs": [
    {
     "name": "stdout",
     "output_type": "stream",
     "text": [
      "Tuple of the first 10 powers of 2: (1, 2, 4, 8, 16, 32, 64, 128, 256, 512)\n"
     ]
    }
   ],
   "source": [
    "n = 10\n",
    "powers_of_2_tuple = tuple(2 ** i for i in range(n))\n",
    "print(\"Tuple of the first\", n, \"powers of 2:\", powers_of_2_tuple)"
   ]
  },
  {
   "cell_type": "markdown",
   "metadata": {},
   "source": [
    "46. Find the longest string in a tuple of strings."
   ]
  },
  {
   "cell_type": "code",
   "execution_count": 42,
   "metadata": {},
   "outputs": [
    {
     "name": "stdout",
     "output_type": "stream",
     "text": [
      "longest string in a tuple of strings: custardapple\n"
     ]
    }
   ],
   "source": [
    "str_tup = (\"apple\",\"applecidar\",\"custardapple\",\"appyfizz\")\n",
    "longest_str_tup = max(str_tup)\n",
    "print(\"longest string in a tuple of strings:\",longest_str_tup)"
   ]
  },
  {
   "cell_type": "markdown",
   "metadata": {},
   "source": [
    "47. Find the shortest string in a tuple of strings."
   ]
  },
  {
   "cell_type": "code",
   "execution_count": 43,
   "metadata": {},
   "outputs": [
    {
     "name": "stdout",
     "output_type": "stream",
     "text": [
      "shortet string in a tuple of strings: apple\n"
     ]
    }
   ],
   "source": [
    "str_tup = (\"apple\",\"applecidar\",\"custardapple\",\"appyfizz\")\n",
    "shortest_str_tup = min(str_tup)\n",
    "print(\"shortet string in a tuple of strings:\",shortest_str_tup)"
   ]
  },
  {
   "cell_type": "markdown",
   "metadata": {},
   "source": [
    "48. Create a tuple of the first n triangular numbers."
   ]
  },
  {
   "cell_type": "code",
   "execution_count": 45,
   "metadata": {},
   "outputs": [
    {
     "name": "stdout",
     "output_type": "stream",
     "text": [
      "Tuple of the first 10 triangular numbers: (1, 3, 6, 10, 15, 21, 28, 36, 45, 55)\n"
     ]
    }
   ],
   "source": [
    "n = 10\n",
    "triangular_num_tuple = tuple((i * (i + 1)) // 2 for i in range(1, n + 1))\n",
    "\n",
    "print(\"Tuple of the first\", n, \"triangular numbers:\", triangular_num_tuple)"
   ]
  },
  {
   "cell_type": "markdown",
   "metadata": {},
   "source": [
    "49. Check if a tuple contains another tuple as a subsequence."
   ]
  },
  {
   "cell_type": "code",
   "execution_count": 47,
   "metadata": {},
   "outputs": [
    {
     "name": "stdout",
     "output_type": "stream",
     "text": [
      "Main tuple contains subsequence tuple: True\n"
     ]
    }
   ],
   "source": [
    "def contains_subsequence(main_tuple, sub_tuple):\n",
    "    sub_length = len(sub_tuple)\n",
    "    for i in range(len(main_tuple) - sub_length + 1):\n",
    "        if main_tuple[i:i+sub_length] == sub_tuple:\n",
    "            return True\n",
    "    return False\n",
    "\n",
    "main_tuple = (1, 2, 3, 4, 5, 6, 7, 8, 9)\n",
    "\n",
    "sub_tuple = (3, 4, 5)\n",
    "\n",
    "contains_subseq = contains_subsequence(main_tuple, sub_tuple)\n",
    "\n",
    "print(\"Main tuple contains subsequence tuple:\", contains_subseq)"
   ]
  },
  {
   "cell_type": "code",
   "execution_count": 76,
   "metadata": {},
   "outputs": [],
   "source": [
    "main_tuple = (1, 2, 3, 4, 5, 6, 7, 8, 9)\n",
    "\n",
    "sub_tuple = (5, 6, 7)\n",
    "\n",
    "sub_length = len(sub_tuple)\n",
    "for i in range(len(main_tuple) == sub_length ):\n",
    "    print(\"true\")\n",
    "    if sub_tuple not in main_tuple :\n",
    "        print(\"false\")"
   ]
  },
  {
   "cell_type": "markdown",
   "metadata": {},
   "source": [
    "50. Create a tuple of alternating 1s and 0s of length n."
   ]
  },
  {
   "cell_type": "code",
   "execution_count": 78,
   "metadata": {},
   "outputs": [
    {
     "name": "stdout",
     "output_type": "stream",
     "text": [
      "Tuple of alternating 1s and 0s: (0, 1, 0, 1, 0)\n"
     ]
    }
   ],
   "source": [
    "n = 5\n",
    "\n",
    "alternating_tuple = tuple(i % 2 for i in range(n))\n",
    "\n",
    "print(\"Tuple of alternating 1s and 0s:\", alternating_tuple)"
   ]
  },
  {
   "cell_type": "markdown",
   "metadata": {},
   "source": [
    "# Set based problems:"
   ]
  },
  {
   "cell_type": "markdown",
   "metadata": {},
   "source": [
    "Create a set with integers from 1 to 5"
   ]
  },
  {
   "cell_type": "code",
   "execution_count": 13,
   "metadata": {},
   "outputs": [
    {
     "name": "stdout",
     "output_type": "stream",
     "text": [
      "{1, 2, 3, 4, 5}\n"
     ]
    }
   ],
   "source": [
    "my_set = set()\n",
    "\n",
    "my_set.add(1)\n",
    "my_set.add(2)\n",
    "my_set.add(3)\n",
    "my_set.add(4)\n",
    "my_set.add(5)\n",
    "\n",
    "print(my_set)"
   ]
  },
  {
   "cell_type": "markdown",
   "metadata": {},
   "source": [
    "2. Add an element to a set"
   ]
  },
  {
   "cell_type": "code",
   "execution_count": 16,
   "metadata": {},
   "outputs": [
    {
     "name": "stdout",
     "output_type": "stream",
     "text": [
      "{1, 2, 3, 4, 5, 6}\n"
     ]
    }
   ],
   "source": [
    "my_set = {1, 2, 3, 4, 5} \n",
    "element_add = 6\n",
    "my_set.add(element_add)\n",
    "\n",
    "print(my_set)"
   ]
  },
  {
   "cell_type": "markdown",
   "metadata": {},
   "source": [
    "3. Remove an element from a set."
   ]
  },
  {
   "cell_type": "code",
   "execution_count": 17,
   "metadata": {},
   "outputs": [
    {
     "name": "stdout",
     "output_type": "stream",
     "text": [
      "{1, 2, 4, 5}\n"
     ]
    }
   ],
   "source": [
    "my_set = {1, 2, 3, 4, 5} \n",
    "remove_element =3\n",
    "my_set.remove(remove_element)\n",
    "print(my_set)"
   ]
  },
  {
   "cell_type": "markdown",
   "metadata": {},
   "source": [
    "4. Check if an element exists in a set."
   ]
  },
  {
   "cell_type": "code",
   "execution_count": 22,
   "metadata": {},
   "outputs": [
    {
     "name": "stdout",
     "output_type": "stream",
     "text": [
      "4 exists in the set\n"
     ]
    }
   ],
   "source": [
    "my_set = {1, 2, 3, 4, 5}\n",
    "\n",
    "element_to_check = 4\n",
    "if element_to_check in my_set:\n",
    "     print(element_to_check ,\"exists in the set\")\n",
    "else:\n",
    "       print(element_to_check ,\" does not exist in the set.\")"
   ]
  },
  {
   "cell_type": "markdown",
   "metadata": {},
   "source": [
    "5. Find the length of a set without using the len() function"
   ]
  },
  {
   "cell_type": "code",
   "execution_count": 29,
   "metadata": {},
   "outputs": [
    {
     "name": "stdout",
     "output_type": "stream",
     "text": [
      "length of set is : 5\n"
     ]
    }
   ],
   "source": [
    "my_set = {1, 2, 3, 4, 5} \n",
    "count =0\n",
    "for i in my_set:\n",
    "    count+=1\n",
    "print(\"length of set is :\",count)    "
   ]
  },
  {
   "cell_type": "markdown",
   "metadata": {},
   "source": [
    "6. Clear all elements from a set."
   ]
  },
  {
   "cell_type": "code",
   "execution_count": 35,
   "metadata": {},
   "outputs": [
    {
     "name": "stdout",
     "output_type": "stream",
     "text": [
      "original set  {1, 2, 3, 4, 5}\n",
      "clear all element from a set  set()\n"
     ]
    }
   ],
   "source": [
    "my_set = {1, 2, 3, 4, 5} \n",
    "print(\"original set \",my_set)\n",
    "my_set.clear()\n",
    "print(\"clear all element from a set \",my_set)"
   ]
  },
  {
   "cell_type": "markdown",
   "metadata": {},
   "source": [
    "7. Create a set of even numbers from 1 to 10"
   ]
  },
  {
   "cell_type": "code",
   "execution_count": 57,
   "metadata": {},
   "outputs": [
    {
     "name": "stdout",
     "output_type": "stream",
     "text": [
      "{2, 4, 6, 8, 10}\n"
     ]
    }
   ],
   "source": [
    "even_num_set = set()\n",
    "for num in range(1,11):\n",
    "    if num %2 ==0:\n",
    "        even_num_set.add(num)\n",
    "print(even_num_set)"
   ]
  },
  {
   "cell_type": "markdown",
   "metadata": {},
   "source": [
    "8. Create a set of odd numbers from 1 to 10"
   ]
  },
  {
   "cell_type": "code",
   "execution_count": 58,
   "metadata": {},
   "outputs": [
    {
     "name": "stdout",
     "output_type": "stream",
     "text": [
      "{1, 3, 5, 7, 9}\n"
     ]
    }
   ],
   "source": [
    "odd_num_set = set()\n",
    "for num in range(1,10):\n",
    "    if num %2 !=0:\n",
    "        odd_num_set.add(num)\n",
    "print(odd_num_set)"
   ]
  },
  {
   "cell_type": "markdown",
   "metadata": {},
   "source": [
    "9. Find the union of two sets"
   ]
  },
  {
   "cell_type": "code",
   "execution_count": 64,
   "metadata": {},
   "outputs": [
    {
     "name": "stdout",
     "output_type": "stream",
     "text": [
      "Union of Set 1 and Set 2: {1, 2, 3, 4, 5, 6, 7, 8}\n"
     ]
    }
   ],
   "source": [
    "set1 = {1, 2, 3, 4, 5}\n",
    "set2 = {4, 5, 6, 7, 8}\n",
    "\n",
    "union_result = set1.union(set2)\n",
    "print(\"Union of Set 1 and Set 2:\", union_result)"
   ]
  },
  {
   "cell_type": "markdown",
   "metadata": {},
   "source": [
    "10. Find the intersection of two sets"
   ]
  },
  {
   "cell_type": "code",
   "execution_count": 66,
   "metadata": {},
   "outputs": [
    {
     "name": "stdout",
     "output_type": "stream",
     "text": [
      "interection of two sets is : {1, 3, 5}\n"
     ]
    }
   ],
   "source": [
    "set1 = {1, 2, 3, 4, 5}\n",
    "set2 = {3, 5, 1, 7, 8}\n",
    "intersection_result = set1.intersection(set2)\n",
    "print(\"interection of two sets is :\",intersection_result)"
   ]
  },
  {
   "cell_type": "markdown",
   "metadata": {},
   "source": [
    "11. Find the difference between two sets."
   ]
  },
  {
   "cell_type": "code",
   "execution_count": 68,
   "metadata": {},
   "outputs": [
    {
     "name": "stdout",
     "output_type": "stream",
     "text": [
      "difference between two sets is  {2, 3}\n"
     ]
    }
   ],
   "source": [
    "set_1 = {2,3,4,6,9}\n",
    "set_2 = {9,5,4,6,7}\n",
    "differences_result =set_1.difference(set_2)\n",
    "print(\"difference between two sets is \",differences_result)"
   ]
  },
  {
   "cell_type": "markdown",
   "metadata": {},
   "source": [
    " Check if a set is a subset of another set."
   ]
  },
  {
   "cell_type": "code",
   "execution_count": 72,
   "metadata": {},
   "outputs": [
    {
     "name": "stdout",
     "output_type": "stream",
     "text": [
      "set_1 is subset of set_2 : False\n",
      "set_3 is subset of set_4 : True\n"
     ]
    }
   ],
   "source": [
    "set_1 = {2,3,4,6,9}\n",
    "set_2 = {9,5,4,6,7}\n",
    "set_3 =  {5,6,7} \n",
    "set_4 = {5,6,7,8,9}\n",
    "\n",
    "subset_test_1 = set_1.issubset(set_2)\n",
    "subset_test_2 = set_3.issubset(set_4)\n",
    "print(\"set_1 is subset of set_2 :\",subset_test_1)\n",
    "print(\"set_3 is subset of set_4 :\",subset_test_2)"
   ]
  },
  {
   "cell_type": "markdown",
   "metadata": {},
   "source": [
    "Check if a set is a superset of another set."
   ]
  },
  {
   "cell_type": "code",
   "execution_count": 74,
   "metadata": {},
   "outputs": [
    {
     "name": "stdout",
     "output_type": "stream",
     "text": [
      "set_1 is superset of set_2 : True\n"
     ]
    }
   ],
   "source": [
    "set_1 ={1,2,3,4,5,6}\n",
    "set_2 ={2,4}\n",
    "\n",
    "superset_test = set_1.issuperset(set_2)\n",
    "print(\"set_1 is superset of set_2 :\",superset_test)"
   ]
  },
  {
   "cell_type": "markdown",
   "metadata": {},
   "source": [
    "14. Create a set from a list"
   ]
  },
  {
   "cell_type": "code",
   "execution_count": 76,
   "metadata": {},
   "outputs": [
    {
     "name": "stdout",
     "output_type": "stream",
     "text": [
      "{2, 3, 4, 5, 6}\n"
     ]
    }
   ],
   "source": [
    "my_list = [2,3,4,5,6]\n",
    "my_set = set(my_list)\n",
    "print(my_set)\n"
   ]
  },
  {
   "cell_type": "markdown",
   "metadata": {},
   "source": [
    "15. Convert a set to a list."
   ]
  },
  {
   "cell_type": "code",
   "execution_count": 80,
   "metadata": {},
   "outputs": [
    {
     "name": "stdout",
     "output_type": "stream",
     "text": [
      "[2, 3, 4, 5, 6]\n"
     ]
    }
   ],
   "source": [
    "my_set = {3,4,7,8,9}\n",
    "my_list = list(my_list)\n",
    "print(my_list)"
   ]
  },
  {
   "cell_type": "markdown",
   "metadata": {},
   "source": [
    "16. Remove a random element from a set."
   ]
  },
  {
   "cell_type": "code",
   "execution_count": 84,
   "metadata": {},
   "outputs": [
    {
     "name": "stdout",
     "output_type": "stream",
     "text": [
      "after removing random element  7 {3, 5, 8, 9}\n"
     ]
    }
   ],
   "source": [
    "import random\n",
    "my_set = {3,5,7,8,9}\n",
    "random_element = random.choice(list(my_set))\n",
    "my_set.remove(random_element)\n",
    "print(\"after removing random element \",random_element,my_set)"
   ]
  },
  {
   "cell_type": "markdown",
   "metadata": {},
   "source": [
    "17. Pop an element from a set."
   ]
  },
  {
   "cell_type": "code",
   "execution_count": 85,
   "metadata": {},
   "outputs": [
    {
     "name": "stdout",
     "output_type": "stream",
     "text": [
      "{5, 7, 8, 9}\n"
     ]
    }
   ],
   "source": [
    "my_set = {3,5,7,8,9}\n",
    "pop_element = my_set.pop()\n",
    "print(my_set)"
   ]
  },
  {
   "cell_type": "markdown",
   "metadata": {},
   "source": [
    "18. Check if two sets have no elements in common."
   ]
  },
  {
   "cell_type": "code",
   "execution_count": 101,
   "metadata": {},
   "outputs": [
    {
     "name": "stdout",
     "output_type": "stream",
     "text": [
      "Two set have no common element\n"
     ]
    }
   ],
   "source": [
    "set_1 ={2,4,6,8,9}\n",
    "set_2 ={1,3,5,7,0}\n",
    "common_element_test = set_1.intersection(set_2)\n",
    "if i in common_element_test:\n",
    "    print(\"Two set have common element\")\n",
    "else:\n",
    "    print(\"Two set have no common element\")"
   ]
  },
  {
   "cell_type": "markdown",
   "metadata": {},
   "source": [
    "19. Find the symmetric difference between two sets."
   ]
  },
  {
   "cell_type": "code",
   "execution_count": 103,
   "metadata": {},
   "outputs": [
    {
     "name": "stdout",
     "output_type": "stream",
     "text": [
      "{2, 3, 4, 5}\n"
     ]
    }
   ],
   "source": [
    "set_1 = {2,5,6,7,8}\n",
    "set_2 = {3,4,6,7,8}\n",
    "\n",
    "symmetric_difference = set_1^set_2\n",
    "print(symmetric_difference)"
   ]
  },
  {
   "cell_type": "markdown",
   "metadata": {},
   "source": [
    "20. Update a set with elements from another set."
   ]
  },
  {
   "cell_type": "code",
   "execution_count": 110,
   "metadata": {},
   "outputs": [
    {
     "name": "stdout",
     "output_type": "stream",
     "text": [
      "{2, 4, 5, 6, 7, 8}\n"
     ]
    }
   ],
   "source": [
    "set_1 = {2,5,6,7,8}\n",
    "set_2 = {6,7,8,4,5}\n",
    "\n",
    "update_set = set_1.update(set_2)\n",
    "print(set_1)"
   ]
  },
  {
   "cell_type": "markdown",
   "metadata": {},
   "source": [
    "21. Create a set of the first 5 prime numbers."
   ]
  },
  {
   "cell_type": "code",
   "execution_count": 111,
   "metadata": {},
   "outputs": [
    {
     "name": "stdout",
     "output_type": "stream",
     "text": [
      "Set of the first 5 prime numbers: {2, 3, 5, 7, 11}\n"
     ]
    }
   ],
   "source": [
    "def is_prime(num):\n",
    "    if num <= 1:\n",
    "        return False\n",
    "    for i in range(2, int(num ** 0.5) + 1):\n",
    "        if num % i == 0:\n",
    "            return False\n",
    "    return True\n",
    "prime_set = set()\n",
    "num = 2\n",
    "while len(prime_set) < 5:\n",
    "    if is_prime(num):\n",
    "        prime_set.add(num)\n",
    "    num += 1\n",
    "print(\"Set of the first 5 prime numbers:\", prime_set)"
   ]
  },
  {
   "cell_type": "markdown",
   "metadata": {},
   "source": [
    "22. Check if two sets are identical."
   ]
  },
  {
   "cell_type": "code",
   "execution_count": 115,
   "metadata": {},
   "outputs": [
    {
     "name": "stdout",
     "output_type": "stream",
     "text": [
      "two sets are identical : True\n"
     ]
    }
   ],
   "source": [
    "set_1 = {1,2,3,4,5}\n",
    "set_2 = {4,5,2,1,3}\n",
    "\n",
    "identical_set_test =  set_1==set_2\n",
    "print(\"two sets are identical :\" ,identical_set_test)"
   ]
  },
  {
   "cell_type": "markdown",
   "metadata": {},
   "source": [
    "23. Create a frozen set"
   ]
  },
  {
   "cell_type": "code",
   "execution_count": 120,
   "metadata": {},
   "outputs": [
    {
     "name": "stdout",
     "output_type": "stream",
     "text": [
      "frozenset({2, 3, 4, 5, 6})\n"
     ]
    }
   ],
   "source": [
    "element = [2,3,4,5,6]\n",
    "\n",
    "frozen_set =  frozenset(element)\n",
    "print(frozen_set)"
   ]
  },
  {
   "cell_type": "markdown",
   "metadata": {},
   "source": [
    "24. Check if a set is disjoint with another set."
   ]
  },
  {
   "cell_type": "code",
   "execution_count": 127,
   "metadata": {},
   "outputs": [
    {
     "name": "stdout",
     "output_type": "stream",
     "text": [
      "set_1 is disjoint with set_2 : True\n"
     ]
    }
   ],
   "source": [
    "set_1 = {1,2,3,4,5}\n",
    "set_2 = {6,7,8,9}\n",
    "\n",
    "disjoint_test = set_1.isdisjoint(set_2)\n",
    "print(\"set_1 is disjoint with set_2 :\",disjoint_test)"
   ]
  },
  {
   "cell_type": "markdown",
   "metadata": {},
   "source": [
    "25. Create a set of squares of numbers from 1 to 5."
   ]
  },
  {
   "cell_type": "code",
   "execution_count": 128,
   "metadata": {},
   "outputs": [
    {
     "name": "stdout",
     "output_type": "stream",
     "text": [
      "{1, 4, 9, 16, 25}\n"
     ]
    }
   ],
   "source": [
    "squares_set = set()\n",
    "for num in range(1, 6):\n",
    "    square = num ** 2\n",
    "    squares_set.add(square)\n",
    "print(squares_set)"
   ]
  },
  {
   "cell_type": "markdown",
   "metadata": {},
   "source": [
    "26. Filter out all even numbers from a set."
   ]
  },
  {
   "cell_type": "code",
   "execution_count": 130,
   "metadata": {},
   "outputs": [
    {
     "name": "stdout",
     "output_type": "stream",
     "text": [
      "[4, 6, 8, 24, 56, 88]\n"
     ]
    }
   ],
   "source": [
    "set_1 = {4,6,9,3,8,24,88,56}\n",
    "print([i for i in set_1 if i %2==0])"
   ]
  },
  {
   "cell_type": "markdown",
   "metadata": {},
   "source": [
    "27. Multiply all elements in a set by 2."
   ]
  },
  {
   "cell_type": "code",
   "execution_count": 138,
   "metadata": {},
   "outputs": [
    {
     "name": "stdout",
     "output_type": "stream",
     "text": [
      "Original Set: {2, 3, 4, 5, 6, 7, 8}\n",
      "Multiplied Set: {4, 6, 8, 10, 12, 14, 16}\n"
     ]
    }
   ],
   "source": [
    "original_set ={2,3,4,7,5,6,8}\n",
    "multiplied_set = set()\n",
    "for num in original_set:\n",
    "    multiplied_num = num * 2\n",
    "    multiplied_set.add(multiplied_num)\n",
    "print(\"Original Set:\", original_set)\n",
    "print(\"Multiplied Set:\", multiplied_set)"
   ]
  },
  {
   "cell_type": "markdown",
   "metadata": {},
   "source": [
    "28. Create a set of random numbers."
   ]
  },
  {
   "cell_type": "code",
   "execution_count": 147,
   "metadata": {},
   "outputs": [
    {
     "name": "stdout",
     "output_type": "stream",
     "text": [
      "set of random numbers: {4, 73, 42, 58, 59}\n"
     ]
    }
   ],
   "source": [
    "import random\n",
    "random_number_set = set()\n",
    "for i in range(num_random_numbers):\n",
    "    random_num = random.randint(1, 100) \n",
    "    random_number_set.add(random_num)\n",
    "print(\"set of random numbers:\", random_number_set)"
   ]
  },
  {
   "cell_type": "markdown",
   "metadata": {},
   "source": [
    "29. Check if a set is empty."
   ]
  },
  {
   "cell_type": "code",
   "execution_count": 148,
   "metadata": {},
   "outputs": [
    {
     "name": "stdout",
     "output_type": "stream",
     "text": [
      "The set is empty.\n"
     ]
    }
   ],
   "source": [
    "my_set = set()\n",
    "if not my_set:\n",
    "    print(\"The set is empty.\")\n",
    "else:\n",
    "    print(\"The set is not empty.\")"
   ]
  },
  {
   "cell_type": "markdown",
   "metadata": {},
   "source": [
    "30. Create a nested set (hint: use frozenset)"
   ]
  },
  {
   "cell_type": "code",
   "execution_count": 149,
   "metadata": {},
   "outputs": [
    {
     "name": "stdout",
     "output_type": "stream",
     "text": [
      "Nested Set: {frozenset({1, 2, 3, 4, 5}), frozenset({6, 7, 8, 9, 10})}\n"
     ]
    }
   ],
   "source": [
    "set1 = {1, 2, 3, 4, 5}\n",
    "set2 = {6, 7, 8, 9, 10}\n",
    "frozen_set1 = frozenset(set1)\n",
    "frozen_set2 = frozenset(set2)\n",
    "nested_set = {frozen_set1, frozen_set2}\n",
    "print(\"Nested Set:\", nested_set)                                   "
   ]
  },
  {
   "cell_type": "markdown",
   "metadata": {},
   "source": [
    "31. Remove an element from a set using the discard method."
   ]
  },
  {
   "cell_type": "code",
   "execution_count": 150,
   "metadata": {},
   "outputs": [
    {
     "name": "stdout",
     "output_type": "stream",
     "text": [
      "after deleting 5 {2, 3, 6, 7, 8}\n"
     ]
    }
   ],
   "source": [
    "my_set ={2,3,5,6,7,8}\n",
    "element_to_remove = 5\n",
    "my_set.discard(element_to_remove)\n",
    "print(\"after deleting\",element_to_remove,my_set)"
   ]
  },
  {
   "cell_type": "markdown",
   "metadata": {},
   "source": [
    "32. Compare two sets."
   ]
  },
  {
   "cell_type": "code",
   "execution_count": 153,
   "metadata": {},
   "outputs": [
    {
     "name": "stdout",
     "output_type": "stream",
     "text": [
      "intersection of set_1 and set_2 : {4, 5, 6, 7}\n",
      "union of set_1 and set_2 : {2, 3, 4, 5, 6, 7, 8, 9}\n",
      "difference between set_1 and set_2: {8, 2}\n",
      "Is set_1 is subset of set_2: False\n"
     ]
    }
   ],
   "source": [
    "set_1 = {2,4,5,6,7,8}\n",
    "set_2 = {3,4,5,6,7,9}\n",
    "\n",
    "intersection_set = set_1.intersection(set_2)\n",
    "is_union = set_1.union(set_2)\n",
    "is_difference =set_1.difference(set_2)\n",
    "is_superset = set_1.issuperset(set_2)\n",
    "\n",
    "print(\"intersection of set_1 and set_2 :\",intersection_set)\n",
    "print(\"union of set_1 and set_2 :\",is_union)\n",
    "print(\"difference between set_1 and set_2:\",is_difference)\n",
    "print(\"Is set_1 is subset of set_2:\",is_superset)"
   ]
  },
  {
   "cell_type": "markdown",
   "metadata": {},
   "source": [
    "33. Create a set from a string."
   ]
  },
  {
   "cell_type": "code",
   "execution_count": 154,
   "metadata": {},
   "outputs": [
    {
     "name": "stdout",
     "output_type": "stream",
     "text": [
      "{'naz', 'rabia'}\n"
     ]
    }
   ],
   "source": [
    "my_string = \"rabia\",\"naz\"\n",
    "my_set = set(my_string)\n",
    "print(my_set)"
   ]
  },
  {
   "cell_type": "markdown",
   "metadata": {},
   "source": [
    "34. Convert a set of strings to a set of integers."
   ]
  },
  {
   "cell_type": "code",
   "execution_count": 6,
   "metadata": {},
   "outputs": [
    {
     "name": "stdout",
     "output_type": "stream",
     "text": [
      "{345, 123, 567}\n"
     ]
    }
   ],
   "source": [
    "my_set_strings = {\"123\",\"345\",\"567\"}\n",
    "my_set_integers = set()\n",
    "\n",
    "for string in my_set_strings:\n",
    "    integer_value = int(string)\n",
    "    my_set_integers.add( integer_value)\n",
    "print(my_set_integers)"
   ]
  },
  {
   "cell_type": "markdown",
   "metadata": {},
   "source": [
    "35. Convert a set of integers to a set of strings."
   ]
  },
  {
   "cell_type": "code",
   "execution_count": 8,
   "metadata": {},
   "outputs": [
    {
     "name": "stdout",
     "output_type": "stream",
     "text": [
      "{'123', '567', '789', '345'}\n"
     ]
    }
   ],
   "source": [
    "my_integers_set = {123,345,567,789}\n",
    "my_strings_set = set()\n",
    "\n",
    "for integer in my_integers_set:\n",
    "    string_value = str(integer)\n",
    "    my_strings_set.add(string_value)\n",
    "print(my_strings_set)"
   ]
  },
  {
   "cell_type": "markdown",
   "metadata": {},
   "source": [
    "36. Create a set from a tuple."
   ]
  },
  {
   "cell_type": "code",
   "execution_count": 10,
   "metadata": {},
   "outputs": [
    {
     "name": "stdout",
     "output_type": "stream",
     "text": [
      "{1, 2, 3, 4, 5}\n"
     ]
    }
   ],
   "source": [
    "my_tuple = (1,2,3,4,5)\n",
    "my_set = set(my_tuple)\n",
    "print(my_set)"
   ]
  },
  {
   "cell_type": "markdown",
   "metadata": {},
   "source": [
    "37. Convert a set to a tuple."
   ]
  },
  {
   "cell_type": "code",
   "execution_count": 11,
   "metadata": {},
   "outputs": [
    {
     "name": "stdout",
     "output_type": "stream",
     "text": [
      "(1, 2, 3, 4, 5)\n"
     ]
    }
   ],
   "source": [
    "my_set = {1, 2, 3, 4, 5}\n",
    "my_tuple = tuple(my_set)\n",
    "print(my_tuple)"
   ]
  },
  {
   "cell_type": "markdown",
   "metadata": {},
   "source": [
    "38. Find the maximum value in a set."
   ]
  },
  {
   "cell_type": "code",
   "execution_count": 26,
   "metadata": {},
   "outputs": [
    {
     "name": "stdout",
     "output_type": "stream",
     "text": [
      "maximum value in a set: 94\n"
     ]
    }
   ],
   "source": [
    "my_set = {16, 62, 83, 94, 75}\n",
    "max_value = None\n",
    "for num in my_set:\n",
    "    if max_value is None or num > max_value :\n",
    "        max_value = num\n",
    "print(\"maximum value in a set:\",max_value)"
   ]
  },
  {
   "cell_type": "markdown",
   "metadata": {},
   "source": [
    "39. Find the minimum value in a set."
   ]
  },
  {
   "cell_type": "code",
   "execution_count": 28,
   "metadata": {},
   "outputs": [
    {
     "name": "stdout",
     "output_type": "stream",
     "text": [
      "minimum value in a set: 16\n"
     ]
    }
   ],
   "source": [
    "my_set = {16, 62, 83, 94, 75}\n",
    "min_value = None\n",
    "for num in my_set:\n",
    "    if min_value is None or num< min_value:\n",
    "        min_value = num\n",
    "print(\"minimum value in a set:\",min_value)"
   ]
  },
  {
   "cell_type": "markdown",
   "metadata": {},
   "source": [
    "40. Create a set from user input."
   ]
  },
  {
   "cell_type": "code",
   "execution_count": 7,
   "metadata": {},
   "outputs": [
    {
     "name": "stdout",
     "output_type": "stream",
     "text": [
      "Enter elements for the set (type 'done' to finish):\n",
      "Enter elements for the set (type 'done' to finish):\n",
      "> rabia naz done\n",
      "> done\n",
      "Final set: {'rabia naz done'}\n",
      "Final set: {'rabia naz done'}\n"
     ]
    }
   ],
   "source": [
    "user_set = set()\n",
    "print(\"Enter elements for the set (type 'done' to finish):\")\n",
    "while True:\n",
    "    user_input = input(\"> \")  \n",
    "    if user_input.lower() == 'done':\n",
    "        break  \n",
    "    user_set.add(user_input)\n",
    "print(\"Final set:\", user_set)"
   ]
  },
  {
   "cell_type": "markdown",
   "metadata": {},
   "source": [
    "41. Check if the intersection of two sets is empty."
   ]
  },
  {
   "cell_type": "code",
   "execution_count": 8,
   "metadata": {},
   "outputs": [
    {
     "name": "stdout",
     "output_type": "stream",
     "text": [
      "intersection of two sets is not empty.\n",
      "intersection of two sets is not empty.\n"
     ]
    }
   ],
   "source": [
    "set1 = {1, 2, 3, 4, 5}\n",
    "set2 = {4, 5, 6, 7, 8}\n",
    "intersection_result = set1.intersection(set2)\n",
    "if not intersection_result:\n",
    "    print(\"intersection of two sets is empty.\")\n",
    "else:\n",
    "    print(\"intersection of two sets is not empty.\")"
   ]
  },
  {
   "cell_type": "markdown",
   "metadata": {},
   "source": [
    "42. Create a set of the first 5 Fibonacci numbers."
   ]
  },
  {
   "cell_type": "code",
   "execution_count": 12,
   "metadata": {},
   "outputs": [
    {
     "name": "stdout",
     "output_type": "stream",
     "text": [
      "Set of the first 5 Fibonacci numbers: {0, 1, 2, 3, 5}\n",
      "Set of the first 5 Fibonacci numbers: {0, 1, 2, 3, 5}\n"
     ]
    }
   ],
   "source": [
    "fib_set = set()\n",
    "a, b = 0, 1\n",
    "for i in range(6):\n",
    "    fib_set.add(a)\n",
    "    a, b = b, a + b\n",
    "print(\"Set of the first 5 Fibonacci numbers:\", fib_set)"
   ]
  },
  {
   "cell_type": "markdown",
   "metadata": {},
   "source": [
    "43. Remove duplicates from a list using sets."
   ]
  },
  {
   "cell_type": "code",
   "execution_count": 13,
   "metadata": {},
   "outputs": [
    {
     "name": "stdout",
     "output_type": "stream",
     "text": [
      "Original List: [1, 4, 6, 8, 4, 10, 1, 6, 12, 14, 8]\n",
      "List with Duplicates Removed: [1, 4, 6, 8, 10, 12, 14]\n",
      "Original List: [1, 4, 6, 8, 4, 10, 1, 6, 12, 14, 8]\n",
      "List with Duplicates Removed: [1, 4, 6, 8, 10, 12, 14]\n"
     ]
    }
   ],
   "source": [
    "original_list = [1, 4, 6, 8, 4, 10,1, 6, 12, 14, 8]\n",
    "unique_set = set(original_list)\n",
    "unique_list = list(unique_set)\n",
    "print(\"Original List:\", original_list)\n",
    "print(\"List with Duplicates Removed:\", unique_list)"
   ]
  },
  {
   "cell_type": "markdown",
   "metadata": {},
   "source": [
    "44. Check if two sets have the same elements, regardless of their count"
   ]
  },
  {
   "cell_type": "code",
   "execution_count": 38,
   "metadata": {},
   "outputs": [
    {
     "name": "stdout",
     "output_type": "stream",
     "text": [
      "two sets have the same elements: False\n",
      "two sets have the same elements: False\n"
     ]
    }
   ],
   "source": [
    "element_1 = {1,2,3,4,5,6}\n",
    "element_2 = {7,8,9,9}\n",
    "\n",
    "is_same_element = element_1==element_2\n",
    "print(\"two sets have the same elements:\",is_same_element)"
   ]
  },
  {
   "cell_type": "markdown",
   "metadata": {},
   "source": [
    "45. Create a set of the first n powers of 2"
   ]
  },
  {
   "cell_type": "code",
   "execution_count": 39,
   "metadata": {},
   "outputs": [
    {
     "name": "stdout",
     "output_type": "stream",
     "text": [
      "{1, 2, 4, 8, 16}\n",
      "{1, 2, 4, 8, 16}\n"
     ]
    }
   ],
   "source": [
    "def create_powers_of_2(n):\n",
    "    powers_of_2 = set()\n",
    "    for i in range(n):\n",
    "        power = 2 ** i\n",
    "        powers_of_2.add(power)\n",
    "    return powers_of_2\n",
    "n = 5\n",
    "powers_set = create_powers_of_2(n)\n",
    "print(powers_set)"
   ]
  },
  {
   "cell_type": "markdown",
   "metadata": {},
   "source": [
    "46. Find the common elements between a set and a list."
   ]
  },
  {
   "cell_type": "code",
   "execution_count": 40,
   "metadata": {},
   "outputs": [
    {
     "name": "stdout",
     "output_type": "stream",
     "text": [
      "Common elements: [1, 4, 6]\n",
      "Common elements: [1, 4, 6]\n"
     ]
    }
   ],
   "source": [
    "my_set = {1,2,3,4,5,6}\n",
    "my_list = [1,9,4,6,7,8]\n",
    "\n",
    "list_to_set = set(my_list)\n",
    "common_elements = []\n",
    "for element in my_set:\n",
    "    if element in list_to_set:\n",
    "        common_elements.append(element)\n",
    "print(\"Common elements:\", common_elements)"
   ]
  },
  {
   "cell_type": "markdown",
   "metadata": {},
   "source": [
    "47. Create a set of the first n triangular numbers.:"
   ]
  },
  {
   "cell_type": "code",
   "execution_count": 41,
   "metadata": {},
   "outputs": [
    {
     "name": "stdout",
     "output_type": "stream",
     "text": [
      "Enter the value of n: 5\n",
      "The set of the first 5 triangular numbers is: {1, 3, 6, 10, 15}\n",
      "The set of the first 5 triangular numbers is: {1, 3, 6, 10, 15}\n"
     ]
    }
   ],
   "source": [
    "def generate_triangular_numbers(n):\n",
    "    triangular_numbers = set()  \n",
    "    for i in range(1, n + 1):\n",
    "        triangular_number = i * (i + 1) // 2  \n",
    "        triangular_numbers.add(triangular_number)  \n",
    "    return triangular_numbers\n",
    "n = int(input(\"Enter the value of n: \"))\n",
    "triangular_set = generate_triangular_numbers(n)\n",
    "print(f\"The set of the first {n} triangular numbers is:\", triangular_set)"
   ]
  },
  {
   "cell_type": "markdown",
   "metadata": {},
   "source": [
    "48. Check if a set contains another set as a subset."
   ]
  },
  {
   "cell_type": "code",
   "execution_count": 42,
   "metadata": {},
   "outputs": [
    {
     "name": "stdout",
     "output_type": "stream",
     "text": [
      "set contains another set as a subset: False\n",
      "set contains another set as a subset: False\n"
     ]
    }
   ],
   "source": [
    "set_1 = {1,2,3,4,5,6}\n",
    "set_2 = {7,8,9,9}\n",
    "\n",
    "is_subset = set_1.issubset(set_2)\n",
    "print(\"set contains another set as a subset:\",is_subset)"
   ]
  },
  {
   "cell_type": "markdown",
   "metadata": {},
   "source": [
    "49. Create a set of alternating 1s and 0s of length n."
   ]
  },
  {
   "cell_type": "code",
   "execution_count": 45,
   "metadata": {},
   "outputs": [
    {
     "name": "stdout",
     "output_type": "stream",
     "text": [
      "{0, 1}\n",
      "{0, 1}\n"
     ]
    }
   ],
   "source": [
    "def create_alternating_set (n):\n",
    "    alternating_set = set()\n",
    "    for i in range (n):\n",
    "        if i % 2 == 0:\n",
    "            alternating_set.add(1) \n",
    "        else:\n",
    "            alternating_set.add(0) \n",
    "    return alternating_set\n",
    "length_n = 10\n",
    "result = create_alternating_set(length_n)\n",
    "print(result)"
   ]
  },
  {
   "cell_type": "markdown",
   "metadata": {},
   "source": [
    "Merge multiple sets into one."
   ]
  },
  {
   "cell_type": "code",
   "execution_count": 47,
   "metadata": {},
   "outputs": [
    {
     "name": "stdout",
     "output_type": "stream",
     "text": [
      "{1, 2, 3, 4, 5, 6, 7, 8, 9}\n",
      "{1, 2, 3, 4, 5, 6, 7, 8, 9}\n"
     ]
    }
   ],
   "source": [
    "set_1= {1,2,3,4}\n",
    "set_2= {4,5,6,7}\n",
    "set_3= {7,8,9}\n",
    "\n",
    "merge_set = set_1.union(set_2,set_3)\n",
    "print(merge_set)"
   ]
  },
  {
   "cell_type": "code",
   "execution_count": null,
   "metadata": {},
   "outputs": [],
   "source": []
  }
 ],
 "metadata": {
  "kernelspec": {
   "display_name": "Python 3",
   "language": "python",
   "name": "python3"
  },
  "language_info": {
   "codemirror_mode": {
    "name": "ipython",
    "version": 3
   },
   "file_extension": ".py",
   "mimetype": "text/x-python",
   "name": "python",
   "nbconvert_exporter": "python",
   "pygments_lexer": "ipython3",
   "version": "3.7.6"
  }
 },
 "nbformat": 4,
 "nbformat_minor": 4
}
